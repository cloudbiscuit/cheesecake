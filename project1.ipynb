{
 "cells": [
  {
   "cell_type": "code",
   "execution_count": 2,
   "metadata": {
    "deletable": false,
    "editable": false
   },
   "outputs": [
    {
     "name": "stdout",
     "output_type": "stream",
     "text": [
      "=====================================================================\n",
      "Assignment: Project 1: World Progress\n",
      "OK, version v1.18.1\n",
      "=====================================================================\n",
      "\n"
     ]
    }
   ],
   "source": [
    "# Initialize OK\n",
    "from client.api.notebook import Notebook\n",
    "ok = Notebook('project1.ok')"
   ]
  },
  {
   "cell_type": "code",
   "execution_count": null,
   "metadata": {},
   "outputs": [],
   "source": []
  },
  {
   "cell_type": "markdown",
   "metadata": {},
   "source": [
    "## Project 1: World Progress"
   ]
  },
  {
   "cell_type": "markdown",
   "metadata": {},
   "source": [
    "In this project, you'll explore data from [Gapminder.org](http://gapminder.org), a website dedicated to providing a fact-based view of the world and how it has changed. That site includes several data visualizations and presentations, but also publishes the raw data that we will use in this project to recreate and extend some of their most famous visualizations.\n",
    "\n",
    "The Gapminder website collects data from many sources and compiles them into tables that describe many countries around the world. All of the data they aggregate are published in the [Systema Globalis](https://github.com/open-numbers/ddf--gapminder--systema_globalis/blob/master/README.md). Their goal is \"to compile all public statistics; Social, Economic and Environmental; into a comparable total dataset.\" All data sets in this project are copied directly from the Systema Globalis without any changes.\n",
    "\n",
    "This project is dedicated to [Hans Rosling](https://en.wikipedia.org/wiki/Hans_Rosling) (1948-2017), who championed the use of data to understand and prioritize global development challenges."
   ]
  },
  {
   "cell_type": "markdown",
   "metadata": {},
   "source": [
    "### Logistics\n",
    "\n",
    "**Deadline.** This project is due at 11:59pm P.D.T. on Friday 10/02. Projects will be accepted up to 2 days (48 hours) late; a project submitted less than 24 hours after the deadline will receive 2/3 credit, a project submitted between 24 and 48 hours after the deadline will receive 1/3 credit, and a project submitted 48 hours or more after the deadline will receive no credit. It's **much** better to be early than late, so start working now.\n",
    "\n",
    "**Checkpoint.** For full credit, you must also complete the first 8 questions, pass all public autograder tests, and submit to okpy by 11:59pm P.D.T. on Friday 9/25. After you've submitted the checkpoint, you may still change your answers before the project deadline - only your final submission will be graded for correctness. You will have some lab time to work on these questions, but we recommend that you start the project before lab and leave time to finish the checkpoint afterward.\n",
    "\n",
    "**Partners.** You may work with one other partner; your partner must be from your assigned lab section. Only one of you is required to submit the project. On [okpy.org](http://okpy.org), the person who submits should also designate their partner so that both of you receive credit.\n",
    "\n",
    "**Rules.** Don't share your code with anybody but your partner. You are welcome to discuss questions with other students, but don't share the answers. The experience of solving the problems in this project will prepare you for exams (and life). If someone asks you for the answer, resist! Instead, you can demonstrate how you would solve a similar problem.\n",
    "\n",
    "**Support.** You are not alone! Come to office hours, post on Piazza, and talk to your classmates. If you want to ask about the details of your solution to a problem, make a private Piazza post and the staff will respond. If you're ever feeling overwhelmed or don't know how to make progress, email your TA or tutor for help. You can find contact information for the staff on the [course website](http://data8.org/sp20/staff.html).\n",
    "\n",
    "**Tests.** The tests that are given are **not comprehensive** and passing the tests for a question **does not** mean that you answered the question correctly. Tests usually only check that your table has the correct column labels. However, more tests will be applied to verify the correctness of your submission in order to assign your final score, so be careful and check your work! You might want to create your own checks along the way to see if your answers make sense. Additionally, before you submit, make sure that none of your cells take a very long time to run (several minutes).\n",
    "\n",
    "**Free Response Questions:** Make sure that you put the answers to the written questions in the indicated cell we provide. Check to make sure that you have a [Gradescope](http://gradescope.com) account, which is where the scores to the free response questions will be posted. If you do not, make sure to reach out to your assigned (u)GSI.\n",
    "\n",
    "**Advice.** Develop your answers incrementally. To perform a complicated table manipulation, break it up into steps, perform each step on a different line, give a new name to each result, and check that each intermediate result is what you expect. You can add any additional names or functions you want to the provided cells. Make sure that you are using distinct and meaningful variable names throughout the notebook. Along that line, **DO NOT** reuse the variable names that we use when we grade your answers. For example, in Question 1 of the Global Poverty section, we ask you to assign an answer to `latest`. Do not reassign the variable name `latest` to anything else in your notebook, otherwise there is the chance that our tests grade against what `latest` was reassigned to.\n",
    "\n",
    "You **never** have to use just one line in this project or any others. Use intermediate variables and multiple lines as much as you would like!  \n",
    "\n",
    "To get started, load `datascience`, `numpy`, `plots`, and `ok`."
   ]
  },
  {
   "cell_type": "code",
   "execution_count": 3,
   "metadata": {},
   "outputs": [
    {
     "name": "stdout",
     "output_type": "stream",
     "text": [
      "=====================================================================\n",
      "Assignment: Project 1: World Progress\n",
      "OK, version v1.18.1\n",
      "=====================================================================\n",
      "\n"
     ]
    }
   ],
   "source": [
    "from datascience import *\n",
    "import numpy as np\n",
    "\n",
    "%matplotlib inline\n",
    "import matplotlib.pyplot as plots\n",
    "plots.style.use('fivethirtyeight')\n",
    "\n",
    "from client.api.notebook import Notebook\n",
    "ok = Notebook('project1.ok')"
   ]
  },
  {
   "cell_type": "markdown",
   "metadata": {},
   "source": [
    "Before continuing the assignment, select \"Save and Checkpoint\" in the File menu and then execute the submit cell below. The result will contain a link that you can use to check that your assignment has been submitted successfully. If you submit more than once before the deadline, we will only grade your final submission. If you mistakenly submit the wrong one, you can head to okpy.org and flag the correct version. There will be another submit cell at the end of the assignment when you finish!"
   ]
  },
  {
   "cell_type": "code",
   "execution_count": 39,
   "metadata": {},
   "outputs": [
    {
     "data": {
      "application/javascript": [
       "IPython.notebook.save_checkpoint();"
      ],
      "text/plain": [
       "<IPython.core.display.Javascript object>"
      ]
     },
     "metadata": {},
     "output_type": "display_data"
    },
    {
     "data": {
      "application/javascript": [
       "IPython.notebook.save_notebook();"
      ],
      "text/plain": [
       "<IPython.core.display.Javascript object>"
      ]
     },
     "metadata": {},
     "output_type": "display_data"
    },
    {
     "name": "stdout",
     "output_type": "stream",
     "text": [
      "Saving notebook... Saved 'project1.ipynb'.\n",
      "Submit... 100% complete\n",
      "Submission successful for user: dianakim@berkeley.edu\n",
      "URL: https://okpy.org/cal/data8/fa20/project1/submissions/wKO5R1\n",
      "\n"
     ]
    }
   ],
   "source": [
    "_ = ok.submit()"
   ]
  },
  {
   "cell_type": "markdown",
   "metadata": {
    "deletable": false,
    "editable": false
   },
   "source": [
    "## 1. Global Population Growth\n"
   ]
  },
  {
   "cell_type": "markdown",
   "metadata": {
    "deletable": false,
    "editable": false
   },
   "source": [
    "The global population of humans reached 1 billion around 1800, 3 billion around 1960, and 7 billion around 2011. The potential impact of exponential population growth has concerned scientists, economists, and politicians alike.\n",
    "\n",
    "The UN Population Division estimates that the world population will likely continue to grow throughout the 21st century, but at a slower rate, perhaps reaching 11 billion by 2100. However, the UN does not rule out scenarios of more extreme growth.\n",
    "\n",
    "<a href=\"http://www.pewresearch.org/fact-tank/2015/06/08/scientists-more-worried-than-public-about-worlds-growing-population/ft_15-06-04_popcount/\"> \n",
    " <img src=\"pew_population_projection.png\"/> \n",
    "</a>\n",
    "\n",
    "In this section, we will examine some of the factors that influence population growth and how they are changing around the world.\n",
    "\n",
    "The first table we will consider is the total population of each country over time. Run the cell below."
   ]
  },
  {
   "cell_type": "code",
   "execution_count": 77,
   "metadata": {
    "deletable": false
   },
   "outputs": [
    {
     "data": {
      "text/html": [
       "<table border=\"1\" class=\"dataframe\">\n",
       "    <thead>\n",
       "        <tr>\n",
       "            <th>geo</th> <th>time</th> <th>population_total</th>\n",
       "        </tr>\n",
       "    </thead>\n",
       "    <tbody>\n",
       "        <tr>\n",
       "            <td>afg </td> <td>1800</td> <td>3280000         </td>\n",
       "        </tr>\n",
       "        <tr>\n",
       "            <td>afg </td> <td>1801</td> <td>3280000         </td>\n",
       "        </tr>\n",
       "        <tr>\n",
       "            <td>afg </td> <td>1802</td> <td>3280000         </td>\n",
       "        </tr>\n",
       "    </tbody>\n",
       "</table>\n",
       "<p>... (43534 rows omitted)</p>"
      ],
      "text/plain": [
       "<IPython.core.display.HTML object>"
      ]
     },
     "metadata": {},
     "output_type": "display_data"
    }
   ],
   "source": [
    "population = Table.read_table('population.csv').where(\"time\", are.below(2021))\n",
    "population.show(3)"
   ]
  },
  {
   "cell_type": "markdown",
   "metadata": {},
   "source": [
    "**Note:** The population csv file can also be found [here](https://github.com/open-numbers/ddf--gapminder--systema_globalis/raw/master/ddf--datapoints--population_total--by--geo--time.csv). The data for this project was downloaded in April 2020."
   ]
  },
  {
   "cell_type": "markdown",
   "metadata": {
    "deletable": false
   },
   "source": [
    "### Haiti\n",
    "\n",
    "In the `population` table, the `geo` column contains three-letter codes established by the [International Organization for Standardization](https://en.wikipedia.org/wiki/International_Organization_for_Standardization) (ISO) in the [Alpha-3](https://en.wikipedia.org/wiki/ISO_3166-1_alpha-3#Current_codes) standard. We will begin by taking a close look at Haiti. Use the ISO link to find the 3-letter code for Haiti."
   ]
  },
  {
   "cell_type": "markdown",
   "metadata": {
    "deletable": false,
    "editable": false
   },
   "source": [
    "**Question 1.** Create a table called `h_pop` that has two columns labeled `time` and `population_total`. The first column should contain the years from 1970 through 2020 (including both 1970 and 2020) and the second should contain the population of Haiti in each of those years.\n",
    "\n",
    "<!--\n",
    "BEGIN QUESTION\n",
    "name: q1_1\n",
    "-->"
   ]
  },
  {
   "cell_type": "code",
   "execution_count": 78,
   "metadata": {
    "deletable": false
   },
   "outputs": [
    {
     "data": {
      "text/html": [
       "<table border=\"1\" class=\"dataframe\">\n",
       "    <thead>\n",
       "        <tr>\n",
       "            <th>time</th> <th>population_total</th>\n",
       "        </tr>\n",
       "    </thead>\n",
       "    <tbody>\n",
       "        <tr>\n",
       "            <td>1970</td> <td>4676237         </td>\n",
       "        </tr>\n",
       "        <tr>\n",
       "            <td>1971</td> <td>4757175         </td>\n",
       "        </tr>\n",
       "        <tr>\n",
       "            <td>1972</td> <td>4837334         </td>\n",
       "        </tr>\n",
       "        <tr>\n",
       "            <td>1973</td> <td>4918625         </td>\n",
       "        </tr>\n",
       "        <tr>\n",
       "            <td>1974</td> <td>5003708         </td>\n",
       "        </tr>\n",
       "        <tr>\n",
       "            <td>1975</td> <td>5094570         </td>\n",
       "        </tr>\n",
       "        <tr>\n",
       "            <td>1976</td> <td>5191637         </td>\n",
       "        </tr>\n",
       "        <tr>\n",
       "            <td>1977</td> <td>5294625         </td>\n",
       "        </tr>\n",
       "        <tr>\n",
       "            <td>1978</td> <td>5404020         </td>\n",
       "        </tr>\n",
       "        <tr>\n",
       "            <td>1979</td> <td>5520187         </td>\n",
       "        </tr>\n",
       "    </tbody>\n",
       "</table>\n",
       "<p>... (41 rows omitted)</p>"
      ],
      "text/plain": [
       "time | population_total\n",
       "1970 | 4676237\n",
       "1971 | 4757175\n",
       "1972 | 4837334\n",
       "1973 | 4918625\n",
       "1974 | 5003708\n",
       "1975 | 5094570\n",
       "1976 | 5191637\n",
       "1977 | 5294625\n",
       "1978 | 5404020\n",
       "1979 | 5520187\n",
       "... (41 rows omitted)"
      ]
     },
     "execution_count": 78,
     "metadata": {},
     "output_type": "execute_result"
    }
   ],
   "source": [
    "h_pop = Table.read_table('population.csv')\n",
    "h_pop = population.where('geo', are.equal_to('hti')).select('time', 'population_total').where('time', are.between(1970, 2021))\n",
    "h_pop"
   ]
  },
  {
   "cell_type": "code",
   "execution_count": null,
   "metadata": {},
   "outputs": [],
   "source": []
  },
  {
   "cell_type": "code",
   "execution_count": null,
   "metadata": {},
   "outputs": [],
   "source": []
  },
  {
   "cell_type": "code",
   "execution_count": 79,
   "metadata": {
    "deletable": false,
    "editable": false
   },
   "outputs": [
    {
     "name": "stdout",
     "output_type": "stream",
     "text": [
      "~~~~~~~~~~~~~~~~~~~~~~~~~~~~~~~~~~~~~~~~~~~~~~~~~~~~~~~~~~~~~~~~~~~~~\n",
      "Running tests\n",
      "\n",
      "---------------------------------------------------------------------\n",
      "Test summary\n",
      "    Passed: 2\n",
      "    Failed: 0\n",
      "[ooooooooook] 100.0% passed\n",
      "\n"
     ]
    }
   ],
   "source": [
    "ok.grade(\"q1_1\");"
   ]
  },
  {
   "cell_type": "markdown",
   "metadata": {
    "deletable": false
   },
   "source": [
    "Run the following cell to create a table called `h_decade` that has the population of Haiti for every ten years starting in 1970 and going up to 2020. At a glance, it appears that the population of Haiti has been growing quickly indeed!"
   ]
  },
  {
   "cell_type": "code",
   "execution_count": 80,
   "metadata": {
    "deletable": false,
    "scrolled": true
   },
   "outputs": [
    {
     "data": {
      "text/html": [
       "<table border=\"1\" class=\"dataframe\">\n",
       "    <thead>\n",
       "        <tr>\n",
       "            <th>time</th> <th>population_total</th>\n",
       "        </tr>\n",
       "    </thead>\n",
       "    <tbody>\n",
       "        <tr>\n",
       "            <td>1970</td> <td>4,676,237       </td>\n",
       "        </tr>\n",
       "        <tr>\n",
       "            <td>1980</td> <td>5,643,175       </td>\n",
       "        </tr>\n",
       "        <tr>\n",
       "            <td>1990</td> <td>7,037,915       </td>\n",
       "        </tr>\n",
       "        <tr>\n",
       "            <td>2000</td> <td>8,463,802       </td>\n",
       "        </tr>\n",
       "        <tr>\n",
       "            <td>2010</td> <td>9,949,318       </td>\n",
       "        </tr>\n",
       "        <tr>\n",
       "            <td>2020</td> <td>11,402,533      </td>\n",
       "        </tr>\n",
       "    </tbody>\n",
       "</table>"
      ],
      "text/plain": [
       "<IPython.core.display.HTML object>"
      ]
     },
     "metadata": {},
     "output_type": "display_data"
    }
   ],
   "source": [
    "h_pop.set_format('population_total', NumberFormatter)\n",
    "\n",
    "tens = np.arange(1970, 2021, 10) # 1970, 1980, 1990, ...\n",
    "h_decade = h_pop.sort('time').where('time', are.contained_in(tens))\n",
    "h_decade.show()"
   ]
  },
  {
   "cell_type": "markdown",
   "metadata": {
    "deletable": false,
    "editable": false
   },
   "source": [
    "**Question 2.** Assign `initial` to an array that contains the population for every ten year interval from 1970 to 2010. Then, assign `changed` to an array that contains the population for every ten year interval from 1980 to 2020. You should use the `h_decade` table to create both arrays, first filtering the table to only contain the relevant years.\n",
    "\n",
    "The annual growth rate for a time period is equal to:\n",
    "\n",
    "$$(\\frac{\\text{Population at end of period}}{\\text{Population at start of period}}^{\\frac{1}{\\text{number of years}}} )-1$$\n",
    "\n",
    "We have provided the code below that uses  `initial` and `changed` in order to add a column to `h_decade` called `annual_growth`. Don't worry about the calculation of the growth rates; run the test below to test your solution.\n",
    "\n",
    "If you are interested in how we came up with the formula for growth rates, consult the [growth rates](https://www.inferentialthinking.com/chapters/03/2/1/growth) section of the textbook.\n",
    "\n",
    "<!--\n",
    "BEGIN QUESTION\n",
    "name: q1_2\n",
    "-->"
   ]
  },
  {
   "cell_type": "code",
   "execution_count": 81,
   "metadata": {},
   "outputs": [
    {
     "data": {
      "text/html": [
       "<table border=\"1\" class=\"dataframe\">\n",
       "    <thead>\n",
       "        <tr>\n",
       "            <th>time</th> <th>population_total</th> <th>annual_growth</th>\n",
       "        </tr>\n",
       "    </thead>\n",
       "    <tbody>\n",
       "        <tr>\n",
       "            <td>1970</td> <td>4,676,237       </td> <td>1.90%        </td>\n",
       "        </tr>\n",
       "        <tr>\n",
       "            <td>1980</td> <td>5,643,175       </td> <td>2.23%        </td>\n",
       "        </tr>\n",
       "        <tr>\n",
       "            <td>1990</td> <td>7,037,915       </td> <td>1.86%        </td>\n",
       "        </tr>\n",
       "        <tr>\n",
       "            <td>2000</td> <td>8,463,802       </td> <td>1.63%        </td>\n",
       "        </tr>\n",
       "        <tr>\n",
       "            <td>2010</td> <td>9,949,318       </td> <td>1.37%        </td>\n",
       "        </tr>\n",
       "    </tbody>\n",
       "</table>"
      ],
      "text/plain": [
       "time | population_total | annual_growth\n",
       "1970 | 4,676,237        | 1.90%\n",
       "1980 | 5,643,175        | 2.23%\n",
       "1990 | 7,037,915        | 1.86%\n",
       "2000 | 8,463,802        | 1.63%\n",
       "2010 | 9,949,318        | 1.37%"
      ]
     },
     "execution_count": 81,
     "metadata": {},
     "output_type": "execute_result"
    }
   ],
   "source": [
    "initial = h_decade.column('population_total').take(np.arange(0,5))\n",
    "changed = h_decade.column('population_total').take(np.arange(1,6))\n",
    "growth_rates = ((changed/initial)**0.1)-1\n",
    "\n",
    "h_1970_through_2010 = h_decade.where('time', are.below_or_equal_to(2010)) \n",
    "h_decade_growth = h_1970_through_2010.with_column('annual_growth', growth_rates)\n",
    "# Don't change this line!\n",
    "h_decade_growth.set_format('annual_growth', PercentFormatter)"
   ]
  },
  {
   "cell_type": "code",
   "execution_count": 71,
   "metadata": {},
   "outputs": [
    {
     "data": {
      "text/plain": [
       "array([4676237, 5643175, 7037915, 8463802, 9949318])"
      ]
     },
     "execution_count": 71,
     "metadata": {},
     "output_type": "execute_result"
    }
   ],
   "source": [
    "initial = h_decade.column('population_total').take(np.arange(0,5))\n",
    "changed = h_decade.column('population_total').take(np.arange(1,6))\n",
    "initial"
   ]
  },
  {
   "cell_type": "code",
   "execution_count": 82,
   "metadata": {
    "deletable": false,
    "editable": false
   },
   "outputs": [
    {
     "name": "stdout",
     "output_type": "stream",
     "text": [
      "~~~~~~~~~~~~~~~~~~~~~~~~~~~~~~~~~~~~~~~~~~~~~~~~~~~~~~~~~~~~~~~~~~~~~\n",
      "Running tests\n",
      "\n",
      "---------------------------------------------------------------------\n",
      "Test summary\n",
      "    Passed: 2\n",
      "    Failed: 0\n",
      "[ooooooooook] 100.0% passed\n",
      "\n"
     ]
    }
   ],
   "source": [
    "ok.grade(\"q1_2\");"
   ]
  },
  {
   "cell_type": "markdown",
   "metadata": {
    "deletable": false
   },
   "source": [
    "While the population has grown every decade since 1970, the annual growth rate decreased dramatically from 1980 to 2020. Let's look at some other information in order to develop a possible explanation. Run the next cell to load three additional tables of measurements about countries over time."
   ]
  },
  {
   "cell_type": "code",
   "execution_count": 83,
   "metadata": {
    "deletable": false
   },
   "outputs": [],
   "source": [
    "life_expectancy = Table.read_table('life_expectancy.csv').where('time', are.below(2021))\n",
    "child_mortality = Table.read_table('child_mortality.csv').relabel(2, 'child_mortality_under_5_per_1000_born').where('time', are.below(2021))\n",
    "fertility = Table.read_table('fertility.csv').where('time', are.below(2021))"
   ]
  },
  {
   "cell_type": "markdown",
   "metadata": {
    "deletable": false,
    "editable": false
   },
   "source": [
    "The `life_expectancy` table contains a statistic that is often used to measure how long people live, called *life expectancy at birth*. This number, for a country in a given year, [does not measure how long babies born in that year are expected to live](http://blogs.worldbank.org/opendata/what-does-life-expectancy-birth-really-mean). Instead, it measures how long someone would live, on average, if the *mortality conditions* in that year persisted throughout their lifetime. These \"mortality conditions\" describe what fraction of people at each age survived the year. So, it is a way of measuring the proportion of people that are staying alive, aggregated over different age groups in the population."
   ]
  },
  {
   "cell_type": "markdown",
   "metadata": {},
   "source": [
    "Run the following cells below to see `life_expectancy`, `child_mortality`, and `fertility`. Refer back to these tables as they will be helpful for answering further questions!"
   ]
  },
  {
   "cell_type": "code",
   "execution_count": 75,
   "metadata": {},
   "outputs": [
    {
     "data": {
      "text/html": [
       "<table border=\"1\" class=\"dataframe\">\n",
       "    <thead>\n",
       "        <tr>\n",
       "            <th>geo</th> <th>time</th> <th>life_expectancy_years</th>\n",
       "        </tr>\n",
       "    </thead>\n",
       "    <tbody>\n",
       "        <tr>\n",
       "            <td>hti </td> <td>1970</td> <td>45.95                </td>\n",
       "        </tr>\n",
       "        <tr>\n",
       "            <td>hti </td> <td>1971</td> <td>46.32                </td>\n",
       "        </tr>\n",
       "        <tr>\n",
       "            <td>hti </td> <td>1972</td> <td>46.74                </td>\n",
       "        </tr>\n",
       "        <tr>\n",
       "            <td>hti </td> <td>1973</td> <td>47.42                </td>\n",
       "        </tr>\n",
       "        <tr>\n",
       "            <td>hti </td> <td>1974</td> <td>48.12                </td>\n",
       "        </tr>\n",
       "        <tr>\n",
       "            <td>hti </td> <td>1975</td> <td>48.62                </td>\n",
       "        </tr>\n",
       "        <tr>\n",
       "            <td>hti </td> <td>1976</td> <td>49.04                </td>\n",
       "        </tr>\n",
       "        <tr>\n",
       "            <td>hti </td> <td>1977</td> <td>49.39                </td>\n",
       "        </tr>\n",
       "        <tr>\n",
       "            <td>hti </td> <td>1978</td> <td>49.73                </td>\n",
       "        </tr>\n",
       "        <tr>\n",
       "            <td>hti </td> <td>1979</td> <td>50.19                </td>\n",
       "        </tr>\n",
       "    </tbody>\n",
       "</table>\n",
       "<p>... (41 rows omitted)</p>"
      ],
      "text/plain": [
       "geo  | time | life_expectancy_years\n",
       "hti  | 1970 | 45.95\n",
       "hti  | 1971 | 46.32\n",
       "hti  | 1972 | 46.74\n",
       "hti  | 1973 | 47.42\n",
       "hti  | 1974 | 48.12\n",
       "hti  | 1975 | 48.62\n",
       "hti  | 1976 | 49.04\n",
       "hti  | 1977 | 49.39\n",
       "hti  | 1978 | 49.73\n",
       "hti  | 1979 | 50.19\n",
       "... (41 rows omitted)"
      ]
     },
     "execution_count": 75,
     "metadata": {},
     "output_type": "execute_result"
    }
   ],
   "source": [
    "life_expectancy"
   ]
  },
  {
   "cell_type": "code",
   "execution_count": 9,
   "metadata": {},
   "outputs": [
    {
     "data": {
      "text/html": [
       "<table border=\"1\" class=\"dataframe\">\n",
       "    <thead>\n",
       "        <tr>\n",
       "            <th>geo</th> <th>time</th> <th>child_mortality_under_5_per_1000_born</th>\n",
       "        </tr>\n",
       "    </thead>\n",
       "    <tbody>\n",
       "        <tr>\n",
       "            <td>afg </td> <td>1800</td> <td>468.58                               </td>\n",
       "        </tr>\n",
       "        <tr>\n",
       "            <td>afg </td> <td>1801</td> <td>468.58                               </td>\n",
       "        </tr>\n",
       "        <tr>\n",
       "            <td>afg </td> <td>1802</td> <td>468.58                               </td>\n",
       "        </tr>\n",
       "        <tr>\n",
       "            <td>afg </td> <td>1803</td> <td>468.58                               </td>\n",
       "        </tr>\n",
       "        <tr>\n",
       "            <td>afg </td> <td>1804</td> <td>468.58                               </td>\n",
       "        </tr>\n",
       "        <tr>\n",
       "            <td>afg </td> <td>1805</td> <td>468.58                               </td>\n",
       "        </tr>\n",
       "        <tr>\n",
       "            <td>afg </td> <td>1806</td> <td>469.98                               </td>\n",
       "        </tr>\n",
       "        <tr>\n",
       "            <td>afg </td> <td>1807</td> <td>469.98                               </td>\n",
       "        </tr>\n",
       "        <tr>\n",
       "            <td>afg </td> <td>1808</td> <td>469.98                               </td>\n",
       "        </tr>\n",
       "        <tr>\n",
       "            <td>afg </td> <td>1809</td> <td>469.98                               </td>\n",
       "        </tr>\n",
       "    </tbody>\n",
       "</table>\n",
       "<p>... (41727 rows omitted)</p>"
      ],
      "text/plain": [
       "geo  | time | child_mortality_under_5_per_1000_born\n",
       "afg  | 1800 | 468.58\n",
       "afg  | 1801 | 468.58\n",
       "afg  | 1802 | 468.58\n",
       "afg  | 1803 | 468.58\n",
       "afg  | 1804 | 468.58\n",
       "afg  | 1805 | 468.58\n",
       "afg  | 1806 | 469.98\n",
       "afg  | 1807 | 469.98\n",
       "afg  | 1808 | 469.98\n",
       "afg  | 1809 | 469.98\n",
       "... (41727 rows omitted)"
      ]
     },
     "execution_count": 9,
     "metadata": {},
     "output_type": "execute_result"
    }
   ],
   "source": [
    "child_mortality"
   ]
  },
  {
   "cell_type": "code",
   "execution_count": 77,
   "metadata": {},
   "outputs": [
    {
     "data": {
      "text/html": [
       "<table border=\"1\" class=\"dataframe\">\n",
       "    <thead>\n",
       "        <tr>\n",
       "            <th>geo</th> <th>time</th> <th>children_per_woman_total_fertility</th>\n",
       "        </tr>\n",
       "    </thead>\n",
       "    <tbody>\n",
       "        <tr>\n",
       "            <td>abw </td> <td>1800</td> <td>5.64                              </td>\n",
       "        </tr>\n",
       "        <tr>\n",
       "            <td>abw </td> <td>1801</td> <td>5.64                              </td>\n",
       "        </tr>\n",
       "        <tr>\n",
       "            <td>abw </td> <td>1802</td> <td>5.64                              </td>\n",
       "        </tr>\n",
       "        <tr>\n",
       "            <td>abw </td> <td>1803</td> <td>5.64                              </td>\n",
       "        </tr>\n",
       "        <tr>\n",
       "            <td>abw </td> <td>1804</td> <td>5.64                              </td>\n",
       "        </tr>\n",
       "        <tr>\n",
       "            <td>abw </td> <td>1805</td> <td>5.64                              </td>\n",
       "        </tr>\n",
       "        <tr>\n",
       "            <td>abw </td> <td>1806</td> <td>5.64                              </td>\n",
       "        </tr>\n",
       "        <tr>\n",
       "            <td>abw </td> <td>1807</td> <td>5.64                              </td>\n",
       "        </tr>\n",
       "        <tr>\n",
       "            <td>abw </td> <td>1808</td> <td>5.64                              </td>\n",
       "        </tr>\n",
       "        <tr>\n",
       "            <td>abw </td> <td>1809</td> <td>5.64                              </td>\n",
       "        </tr>\n",
       "    </tbody>\n",
       "</table>\n",
       "<p>... (44625 rows omitted)</p>"
      ],
      "text/plain": [
       "geo  | time | children_per_woman_total_fertility\n",
       "abw  | 1800 | 5.64\n",
       "abw  | 1801 | 5.64\n",
       "abw  | 1802 | 5.64\n",
       "abw  | 1803 | 5.64\n",
       "abw  | 1804 | 5.64\n",
       "abw  | 1805 | 5.64\n",
       "abw  | 1806 | 5.64\n",
       "abw  | 1807 | 5.64\n",
       "abw  | 1808 | 5.64\n",
       "abw  | 1809 | 5.64\n",
       "... (44625 rows omitted)"
      ]
     },
     "execution_count": 77,
     "metadata": {},
     "output_type": "execute_result"
    }
   ],
   "source": [
    "fertility"
   ]
  },
  {
   "cell_type": "markdown",
   "metadata": {
    "deletable": false,
    "editable": false
   },
   "source": [
    "**Question 3.** Perhaps population is growing more slowly because people aren't living as long. Use the `life_expectancy` table to draw a line graph with the years 1970 and later on the horizontal axis that shows how the *life expectancy at birth* has changed in Haiti.\n",
    "\n",
    "<!--\n",
    "BEGIN QUESTION\n",
    "name: q1_3\n",
    "manual: true\n",
    "-->\n",
    "<!-- EXPORT TO PDF -->"
   ]
  },
  {
   "cell_type": "code",
   "execution_count": 74,
   "metadata": {
    "deletable": false,
    "export_pdf": true,
    "manual_grade": true,
    "manual_problem_id": "global_pop_3"
   },
   "outputs": [
    {
     "data": {
      "image/png": "[encoded data removed]",
      "text/plain": [
       "<Figure size 432x288 with 1 Axes>"
      ]
     },
     "metadata": {},
     "output_type": "display_data"
    }
   ],
   "source": [
    "#Fill in code here\n",
    "life_expectancy = life_expectancy.where(\"geo\", are.equal_to(\"hti\")).where(\"time\", are.between(1970, 2021))\n",
    "life_expectancy.plot(\"time\", \"life_expectancy_years\")"
   ]
  },
  {
   "cell_type": "markdown",
   "metadata": {
    "deletable": false,
    "editable": false
   },
   "source": [
    "**Question 4.** Assuming everything else stays the same, do the trends in life expectancy in the graph above directly explain why the population growth rate decreased from 1980 to 2020 in Haiti? Why or why not? \n",
    "\n",
    "Hint: What happened in Haiti in 2010, and does that event explain the overall change in population growth rate?\n",
    "\n",
    "<!--\n",
    "BEGIN QUESTION\n",
    "name: q1_4\n",
    "manual: true\n",
    "-->\n",
    "<!-- EXPORT TO PDF -->"
   ]
  },
  {
   "cell_type": "markdown",
   "metadata": {
    "collapsed": true,
    "deletable": false,
    "export_pdf": true,
    "manual_grade": true,
    "manual_problem_id": "global_pop_4"
   },
   "source": [
    "During the 1980s in Gonaives, Haiti, there were several anti-government demonstration which resulted in rioting and violence in opposition towards the president. Many Haitians fleed the country in the 1990s and entered the United States as refugees, although it can be suspected that some died during these attempts. And in 2010, Haiti experienced a massive earthquake, which killed hundreds and thousands. Political disputes and natural disasters affected the life expectancy and population growth rate during these times."
   ]
  },
  {
   "cell_type": "markdown",
   "metadata": {
    "deletable": false,
    "editable": false
   },
   "source": [
    "The `fertility` table contains a statistic that is often used to measure how many babies are being born, the *total fertility rate*. This number describes the [number of children a woman would have in her lifetime](https://www.measureevaluation.org/prh/rh_indicators/specific/fertility/total-fertility-rate), on average, if the current rates of birth by age of the mother persisted throughout her child bearing years, assuming she survived through age 49. "
   ]
  },
  {
   "cell_type": "markdown",
   "metadata": {
    "deletable": false,
    "editable": false
   },
   "source": [
    "**Question 5.** Write a function `fertility_over_time` that takes the Alpha-3 code of a `country` and a `start` year. It returns a two-column table with labels `Year` and `Children per woman` that can be used to generate a line chart of the country's fertility rate each year, starting at the `start` year. The plot should include the `start` year and all later years that appear in the `fertility` table. \n",
    "\n",
    "Then, in the next cell, call your `fertility_over_time` function on the Alpha-3 code for Haiti and the year 1970 in order to plot how Haiti's fertility rate has changed since 1970. Note that the function `fertility_over_time` should not return the plot itself. **The expression that draws the line plot is provided for you; please don't change it.**\n",
    "\n",
    "<!--\n",
    "BEGIN QUESTION\n",
    "name: q1_5\n",
    "-->"
   ]
  },
  {
   "cell_type": "code",
   "execution_count": 84,
   "metadata": {
    "deletable": false
   },
   "outputs": [
    {
     "data": {
      "image/png": "[encoded data removed]",
      "text/plain": [
       "<Figure size 432x288 with 1 Axes>"
      ]
     },
     "metadata": {},
     "output_type": "display_data"
    }
   ],
   "source": [
    "def fertility_over_time(country, start):\n",
    "    \"\"\"Create a two-column table that describes a country's total fertility rate each year.\"\"\"\n",
    "    country_fertility = fertility.where('geo', are.equal_to(country)).sort('time')\n",
    "    country_fertility_after_start = country_fertility.where('time', are.above_or_equal_to(start)).relabeled('time', 'Year')\n",
    "    \n",
    "    return country_fertility_after_start.drop('geo').relabeled('children_per_woman_total_fertility', 'Children per woman')\n",
    "\n",
    "haiti_code = 'hti'\n",
    "fertility_over_time(haiti_code, 1970).plot(0, 1) # You should *not* change this line."
   ]
  },
  {
   "cell_type": "code",
   "execution_count": null,
   "metadata": {},
   "outputs": [],
   "source": []
  },
  {
   "cell_type": "code",
   "execution_count": 85,
   "metadata": {
    "deletable": false,
    "editable": false
   },
   "outputs": [
    {
     "name": "stdout",
     "output_type": "stream",
     "text": [
      "~~~~~~~~~~~~~~~~~~~~~~~~~~~~~~~~~~~~~~~~~~~~~~~~~~~~~~~~~~~~~~~~~~~~~\n",
      "Running tests\n",
      "\n",
      "---------------------------------------------------------------------\n",
      "Test summary\n",
      "    Passed: 3\n",
      "    Failed: 0\n",
      "[ooooooooook] 100.0% passed\n",
      "\n"
     ]
    }
   ],
   "source": [
    "ok.grade(\"q1_5\");"
   ]
  },
  {
   "cell_type": "markdown",
   "metadata": {
    "deletable": false,
    "editable": false
   },
   "source": [
    "**Question 6.** Assuming everything else is constant, do the trends in fertility in the graph above help directly explain why the population growth rate decreased from 1980 to 2020 in Haiti? Why or why not?\n",
    "\n",
    "<!--\n",
    "BEGIN QUESTION\n",
    "name: q1_6\n",
    "manual: true\n",
    "-->\n",
    "<!-- EXPORT TO PDF -->"
   ]
  },
  {
   "cell_type": "markdown",
   "metadata": {
    "deletable": false,
    "export_pdf": true,
    "manual_grade": true,
    "manual_problem_id": "global_pop_6"
   },
   "source": [
    "    Yes. The number of children born per woman has decreased from 1980 to 2020, which means population growth rate also decreases."
   ]
  },
  {
   "cell_type": "markdown",
   "metadata": {
    "deletable": false
   },
   "source": [
    "It has been observed that lower fertility rates are often associated with lower child mortality rates. The link has been attributed to family planning: if parents can expect that their children will all survive into adulthood, then they will choose to have fewer children. We can see if this association is evident in Haiti by plotting the relationship between total fertility rate and [child mortality rate per 1000 children](https://en.wikipedia.org/wiki/Child_mortality)."
   ]
  },
  {
   "cell_type": "markdown",
   "metadata": {
    "deletable": false,
    "editable": false
   },
   "source": [
    "**Question 7.** Using both the `fertility` and `child_mortality` tables, draw a scatter diagram that has Haiti's total fertility on the horizontal axis and its child mortality on the vertical axis with one point for each year, starting with 1970.\n",
    "\n",
    "**The expression that draws the scatter diagram is provided for you; please don't change it.** Instead, create a table called `post_1969_fertility_and_child_mortality` with the appropriate column labels and data in order to generate the chart correctly. Use the label `Children per woman` to describe total fertility and the label `Child deaths per 1000 born` to describe child mortality.\n",
    "\n",
    "<!--\n",
    "BEGIN QUESTION\n",
    "name: q1_7\n",
    "manual: false\n",
    "-->"
   ]
  },
  {
   "cell_type": "code",
   "execution_count": 86,
   "metadata": {
    "deletable": false
   },
   "outputs": [
    {
     "data": {
      "image/png": "[encoded data removed]",
      "text/plain": [
       "<Figure size 360x360 with 1 Axes>"
      ]
     },
     "metadata": {},
     "output_type": "display_data"
    }
   ],
   "source": [
    "hti_fertility = fertility.where('geo', are.equal_to('hti')).select('time', 'children_per_woman_total_fertility')\n",
    "hti_child_mortality = child_mortality.where('geo', are.equal_to('hti')).select('time', 'child_mortality_under_5_per_1000_born')\n",
    "fertility_and_child_mortality = hti_fertility.join('time', hti_child_mortality, 'time')\n",
    "post_1969_fertility_and_child_mortality = fertility_and_child_mortality.where('time', are.above_or_equal_to(1970)).drop('time').relabeled('children_per_woman_total_fertility', 'Children per woman').relabeled('child_mortality_under_5_per_1000_born', 'Child deaths per 1000 born')\n",
    "\n",
    "# Don't change this line!\n",
    "post_1969_fertility_and_child_mortality.scatter('Children per woman', 'Child deaths per 1000 born')"
   ]
  },
  {
   "cell_type": "code",
   "execution_count": null,
   "metadata": {},
   "outputs": [],
   "source": []
  },
  {
   "cell_type": "code",
   "execution_count": null,
   "metadata": {},
   "outputs": [],
   "source": []
  },
  {
   "cell_type": "code",
   "execution_count": null,
   "metadata": {},
   "outputs": [],
   "source": []
  },
  {
   "cell_type": "code",
   "execution_count": null,
   "metadata": {},
   "outputs": [],
   "source": []
  },
  {
   "cell_type": "code",
   "execution_count": 87,
   "metadata": {
    "deletable": false,
    "editable": false
   },
   "outputs": [
    {
     "name": "stdout",
     "output_type": "stream",
     "text": [
      "~~~~~~~~~~~~~~~~~~~~~~~~~~~~~~~~~~~~~~~~~~~~~~~~~~~~~~~~~~~~~~~~~~~~~\n",
      "Running tests\n",
      "\n",
      "---------------------------------------------------------------------\n",
      "Test summary\n",
      "    Passed: 2\n",
      "    Failed: 0\n",
      "[ooooooooook] 100.0% passed\n",
      "\n"
     ]
    }
   ],
   "source": [
    "ok.grade(\"q1_7\");"
   ]
  },
  {
   "cell_type": "markdown",
   "metadata": {
    "deletable": false,
    "editable": false
   },
   "source": [
    "**Question 8.** In one or two sentences, describe the association (if any) that is illustrated by this scatter diagram. Does the diagram show that reduced child mortality causes parents to choose to have fewer children? Beyond the general association, are there any irregularities or odd points that would be worth investigating? \n",
    "\n",
    "<!--\n",
    "BEGIN QUESTION\n",
    "name: q1_8\n",
    "manual: true\n",
    "-->\n",
    "<!-- EXPORT TO PDF -->"
   ]
  },
  {
   "cell_type": "markdown",
   "metadata": {
    "deletable": false,
    "export_pdf": true,
    "manual_grade": true,
    "manual_problem_id": "global_pop_8"
   },
   "source": [
    "While the scatter plot shows that there is reduced child mortality when parents choose to have fewer children, there is no causation between mortality rates and parents choosing to have fewer children. We would need more information to determine this, like the fluctuating rates as the number of children per woman increases."
   ]
  },
  {
   "cell_type": "code",
   "execution_count": null,
   "metadata": {},
   "outputs": [],
   "source": []
  },
  {
   "cell_type": "markdown",
   "metadata": {
    "deletable": false,
    "editable": false
   },
   "source": [
    "**Question 9.** Using our knowledge that historical factors may affect Haiti's population, we decide to plot the child mortality rate per 1000 born against time, as seen in the scatter plot above. The y-axis remains the same as the plot from 1.8, but we are now plotting against time rather than the number of children per woman. Does this new visualization give us a better understanding of the outlier in 1.8?\n",
    "<!--\n",
    "BEGIN QUESTION\n",
    "name: q1_9\n",
    "manual: true\n",
    "-->\n",
    "<!-- EXPORT TO PDF -->"
   ]
  },
  {
   "cell_type": "markdown",
   "metadata": {
    "export_pdf": true
   },
   "source": [
    "The outlier is much more clear in this plot, as it directly correlates to the earthquake that happened in 2010. We can also see the linear degression of reduced child mortality rates as time continues, which can be explained as the average age of humans also increases due to more advanced technology."
   ]
  },
  {
   "cell_type": "code",
   "execution_count": 88,
   "metadata": {},
   "outputs": [
    {
     "data": {
      "image/png": "[encoded data removed]",
      "text/plain": [
       "<Figure size 360x360 with 1 Axes>"
      ]
     },
     "metadata": {},
     "output_type": "display_data"
    }
   ],
   "source": [
    "hti_fertility = fertility.where('geo', are.equal_to('hti')).select('time', 'children_per_woman_total_fertility')\n",
    "hti_child_mortality = child_mortality.where('geo', are.equal_to('hti')).select('time', 'child_mortality_under_5_per_1000_born')\n",
    "fertility_and_child_mortality = hti_fertility.join('time', hti_child_mortality)\n",
    "post_1969_fertility_and_child_mortality = fertility_and_child_mortality.where('time', are.above_or_equal_to(1970)).relabeled('children_per_woman_total_fertility', 'Children per woman').relabeled('child_mortality_under_5_per_1000_born', 'Child deaths per 1000 born')\n",
    "\n",
    "\n",
    "# Don't change this line!\n",
    "post_1969_fertility_and_child_mortality.scatter('time', 'Child deaths per 1000 born')"
   ]
  },
  {
   "cell_type": "markdown",
   "metadata": {},
   "source": [
    "### Checkpoint (due Friday 9/25)\n",
    "#### Congratulations, you have reached the checkpoint! Run the submit cell below to generate the checkpoint submission."
   ]
  },
  {
   "cell_type": "code",
   "execution_count": 51,
   "metadata": {},
   "outputs": [
    {
     "data": {
      "application/javascript": [
       "IPython.notebook.save_checkpoint();"
      ],
      "text/plain": [
       "<IPython.core.display.Javascript object>"
      ]
     },
     "metadata": {},
     "output_type": "display_data"
    },
    {
     "data": {
      "application/javascript": [
       "IPython.notebook.save_notebook();"
      ],
      "text/plain": [
       "<IPython.core.display.Javascript object>"
      ]
     },
     "metadata": {},
     "output_type": "display_data"
    },
    {
     "name": "stdout",
     "output_type": "stream",
     "text": [
      "Saving notebook... Saved 'project1.ipynb'.\n",
      "Submit... 100% complete\n",
      "Submission successful for user: dianakim@berkeley.edu\n",
      "URL: https://okpy.org/cal/data8/fa20/project1/submissions/6BgjrL\n",
      "\n"
     ]
    }
   ],
   "source": [
    "_ = ok.submit()"
   ]
  },
  {
   "cell_type": "markdown",
   "metadata": {
    "deletable": false
   },
   "source": [
    "### The World\n",
    "\n",
    "The change observed in Haiti since 1970 can also be observed in many other developing countries: health services improve, life expectancy increases, and child mortality decreases. At the same time, the fertility rate often plummets, and so the population growth rate decreases despite increasing longevity."
   ]
  },
  {
   "cell_type": "markdown",
   "metadata": {
    "deletable": false
   },
   "source": [
    "Run the cell below to generate two overlaid histograms, one for 1960 and one for 2013, that show the distributions of total fertility rates for these two years among all 201 countries in the `fertility` table."
   ]
  },
  {
   "cell_type": "code",
   "execution_count": 89,
   "metadata": {
    "deletable": false
   },
   "outputs": [
    {
     "data": {
      "image/png": "[encoded data removed]",
      "text/plain": [
       "<Figure size 432x288 with 1 Axes>"
      ]
     },
     "metadata": {},
     "output_type": "display_data"
    }
   ],
   "source": [
    "Table().with_columns(\n",
    "    '1960', fertility.where('time', 1960).column(2),\n",
    "    '2013', fertility.where('time', 2013).column(2)\n",
    ").hist(bins=np.arange(0, 10, 0.5), unit='child per woman')\n",
    "_ = plots.xlabel('Children per woman')\n",
    "_ = plots.ylabel('Percent per children per woman')\n",
    "_ = plots.xticks(np.arange(10))"
   ]
  },
  {
   "cell_type": "markdown",
   "metadata": {
    "deletable": false,
    "editable": false
   },
   "source": [
    "**Question 9.** Assign `fertility_statements` to an array of the numbers of each statement below that can be correctly inferred from these histograms.\n",
    "\n",
    "1. About the same number of countries had a fertility rate between 3.5 and 4.5 in both 1960 and 2013.\n",
    "1. In 1960, less than 20% of countries had a fertility rate below 3.\n",
    "1. At least half of countries had a fertility rate between 5 and 8 in 1960.\n",
    "1. In 2013, about 40% of countries had a fertility rate between 1.5 and 2.\n",
    "1. At least half of countries had a fertility rate below 3 in 2013.\n",
    "1. More countries had a fertility rate above 3 in 1960 than in 2013.\n",
    "\n",
    "<!--\n",
    "BEGIN QUESTION\n",
    "name: q1_9\n",
    "-->"
   ]
  },
  {
   "cell_type": "code",
   "execution_count": 90,
   "metadata": {
    "deletable": false
   },
   "outputs": [],
   "source": [
    "fertility_statements = make_array(1, 3, 4, 5, 6)"
   ]
  },
  {
   "cell_type": "code",
   "execution_count": 91,
   "metadata": {
    "deletable": false,
    "editable": false
   },
   "outputs": [
    {
     "name": "stdout",
     "output_type": "stream",
     "text": [
      "~~~~~~~~~~~~~~~~~~~~~~~~~~~~~~~~~~~~~~~~~~~~~~~~~~~~~~~~~~~~~~~~~~~~~\n",
      "Running tests\n",
      "\n",
      "---------------------------------------------------------------------\n",
      "Test summary\n",
      "    Passed: 1\n",
      "    Failed: 0\n",
      "[ooooooooook] 100.0% passed\n",
      "\n"
     ]
    }
   ],
   "source": [
    "ok.grade(\"q1_9\");"
   ]
  },
  {
   "cell_type": "markdown",
   "metadata": {
    "deletable": false,
    "editable": false
   },
   "source": [
    "**Question 10.** Draw a line plot of the world population from 1800 through 2020. The world population is the sum of all the country's populations. \n",
    "\n",
    "<!--\n",
    "BEGIN QUESTION\n",
    "name: q1_10\n",
    "manual: true\n",
    "-->\n",
    "<!-- EXPORT TO PDF -->"
   ]
  },
  {
   "cell_type": "code",
   "execution_count": 93,
   "metadata": {
    "deletable": false,
    "export_pdf": true,
    "manual_grade": true,
    "manual_problem_id": "global_pop_10"
   },
   "outputs": [
    {
     "data": {
      "image/png": "[encoded data removed]",
      "text/plain": [
       "<Figure size 432x288 with 1 Axes>"
      ]
     },
     "metadata": {},
     "output_type": "display_data"
    }
   ],
   "source": [
    "#Fill in code here\n",
    "population.where('time', are.between(1800, 2021)).group('time', sum).plot(0,2)"
   ]
  },
  {
   "cell_type": "markdown",
   "metadata": {
    "deletable": false,
    "editable": false
   },
   "source": [
    "**Question 11.** Create a function `stats_for_year` that takes a `year` and returns a table of statistics. The table it returns should have four columns: `geo`, `population_total`, `children_per_woman_total_fertility`, and `child_mortality_under_5_per_1000_born`. Each row should contain one Alpha-3 country code and three statistics: population, fertility rate, and child mortality for that `year` from the `population`, `fertility` and `child_mortality` tables. Only include rows for which all three statistics are available for the country and year.\n",
    "\n",
    "In addition, restrict the result to country codes that appears in `big_50`, an array of the 50 most populous countries in 2020. This restriction will speed up computations later in the project.\n",
    "\n",
    "After you write `stats_for_year`, try calling `stats_for_year` on any year between 1960 and 2020. Try to understand the output of stats_for_year.\n",
    "\n",
    "*Hint*: The tests for this question are quite comprehensive, so if you pass the tests, your function is probably correct. However, without calling your function yourself and looking at the output, it will be very difficult to understand any problems you have, so try your best to write the function correctly and check that it works before you rely on the `ok` tests to confirm your work.\n",
    "\n",
    "<!--\n",
    "BEGIN QUESTION\n",
    "name: q1_11\n",
    "manual: false\n",
    "-->"
   ]
  },
  {
   "cell_type": "code",
   "execution_count": 95,
   "metadata": {
    "deletable": false
   },
   "outputs": [
    {
     "data": {
      "text/plain": [
       "<function __main__.stats_for_year(year)>"
      ]
     },
     "execution_count": 95,
     "metadata": {},
     "output_type": "execute_result"
    }
   ],
   "source": [
    "# We first create a population table that only includes the \n",
    "# 50 countries with the largest 2010 populations. We focus on \n",
    "# these 50 countries only so that plotting later will run faster.\n",
    "big_50 = population.where('time', are.equal_to(2020)).sort('population_total', descending=True).take(np.arange(50)).column('geo')\n",
    "population_of_big_50 = population.where('time', are.above(1959)).where('geo', are.contained_in(big_50))\n",
    "\n",
    "def stats_for_year(year):\n",
    "    \"\"\"Return a table of the stats for each country that year.\"\"\"\n",
    "    p = population_of_big_50.where('time', year).drop('time')\n",
    "    f = fertility.where('time', year).drop('time')\n",
    "    c = child_mortality.where('time', year).drop('time')\n",
    "    stats_for_year = p.join('geo', f, 'geo').join('geo', c, 'geo')\n",
    "    return stats_for_year\n",
    "\n",
    "stats_for_year"
   ]
  },
  {
   "cell_type": "code",
   "execution_count": 96,
   "metadata": {},
   "outputs": [
    {
     "data": {
      "text/html": [
       "<table border=\"1\" class=\"dataframe\">\n",
       "    <thead>\n",
       "        <tr>\n",
       "            <th>geo</th> <th>population_total</th> <th>children_per_woman_total_fertility</th> <th>child_mortality_under_5_per_1000_born</th>\n",
       "        </tr>\n",
       "    </thead>\n",
       "    <tbody>\n",
       "        <tr>\n",
       "            <td>afg </td> <td>38928341        </td> <td>4.04                              </td> <td>58.08                                </td>\n",
       "        </tr>\n",
       "        <tr>\n",
       "            <td>ago </td> <td>32866268        </td> <td>5.41                              </td> <td>72.29                                </td>\n",
       "        </tr>\n",
       "        <tr>\n",
       "            <td>arg </td> <td>45195777        </td> <td>2.23                              </td> <td>9.4                                  </td>\n",
       "        </tr>\n",
       "        <tr>\n",
       "            <td>bgd </td> <td>164689383       </td> <td>2                                 </td> <td>27.7                                 </td>\n",
       "        </tr>\n",
       "        <tr>\n",
       "            <td>bra </td> <td>212559409       </td> <td>1.67                              </td> <td>13.47                                </td>\n",
       "        </tr>\n",
       "        <tr>\n",
       "            <td>can </td> <td>37742157        </td> <td>1.56                              </td> <td>4.89                                 </td>\n",
       "        </tr>\n",
       "        <tr>\n",
       "            <td>chn </td> <td>1439323774      </td> <td>1.65                              </td> <td>8.09                                 </td>\n",
       "        </tr>\n",
       "        <tr>\n",
       "            <td>cod </td> <td>89561404        </td> <td>5.72                              </td> <td>84.53                                </td>\n",
       "        </tr>\n",
       "        <tr>\n",
       "            <td>col </td> <td>50882884        </td> <td>1.78                              </td> <td>13.48                                </td>\n",
       "        </tr>\n",
       "        <tr>\n",
       "            <td>deu </td> <td>83783945        </td> <td>1.49                              </td> <td>3.24                                 </td>\n",
       "        </tr>\n",
       "    </tbody>\n",
       "</table>\n",
       "<p>... (40 rows omitted)</p>"
      ],
      "text/plain": [
       "geo  | population_total | children_per_woman_total_fertility | child_mortality_under_5_per_1000_born\n",
       "afg  | 38928341         | 4.04                               | 58.08\n",
       "ago  | 32866268         | 5.41                               | 72.29\n",
       "arg  | 45195777         | 2.23                               | 9.4\n",
       "bgd  | 164689383        | 2                                  | 27.7\n",
       "bra  | 212559409        | 1.67                               | 13.47\n",
       "can  | 37742157         | 1.56                               | 4.89\n",
       "chn  | 1439323774       | 1.65                               | 8.09\n",
       "cod  | 89561404         | 5.72                               | 84.53\n",
       "col  | 50882884         | 1.78                               | 13.48\n",
       "deu  | 83783945         | 1.49                               | 3.24\n",
       "... (40 rows omitted)"
      ]
     },
     "execution_count": 96,
     "metadata": {},
     "output_type": "execute_result"
    }
   ],
   "source": [
    "stats_for_year(2020)"
   ]
  },
  {
   "cell_type": "code",
   "execution_count": 11,
   "metadata": {},
   "outputs": [
    {
     "data": {
      "text/html": [
       "<table border=\"1\" class=\"dataframe\">\n",
       "    <thead>\n",
       "        <tr>\n",
       "            <th>geo</th> <th>child_mortality_under_5_per_1000_born</th>\n",
       "        </tr>\n",
       "    </thead>\n",
       "    <tbody>\n",
       "        <tr>\n",
       "            <td>afg </td> <td>58.08                                </td>\n",
       "        </tr>\n",
       "        <tr>\n",
       "            <td>ago </td> <td>72.29                                </td>\n",
       "        </tr>\n",
       "        <tr>\n",
       "            <td>alb </td> <td>8.52                                 </td>\n",
       "        </tr>\n",
       "        <tr>\n",
       "            <td>and </td> <td>2.85                                 </td>\n",
       "        </tr>\n",
       "        <tr>\n",
       "            <td>are </td> <td>7.16                                 </td>\n",
       "        </tr>\n",
       "        <tr>\n",
       "            <td>arg </td> <td>9.4                                  </td>\n",
       "        </tr>\n",
       "        <tr>\n",
       "            <td>arm </td> <td>11.74                                </td>\n",
       "        </tr>\n",
       "        <tr>\n",
       "            <td>atg </td> <td>6.09                                 </td>\n",
       "        </tr>\n",
       "        <tr>\n",
       "            <td>aus </td> <td>3.5                                  </td>\n",
       "        </tr>\n",
       "        <tr>\n",
       "            <td>aut </td> <td>3.21                                 </td>\n",
       "        </tr>\n",
       "    </tbody>\n",
       "</table>\n",
       "<p>... (187 rows omitted)</p>"
      ],
      "text/plain": [
       "geo  | child_mortality_under_5_per_1000_born\n",
       "afg  | 58.08\n",
       "ago  | 72.29\n",
       "alb  | 8.52\n",
       "and  | 2.85\n",
       "are  | 7.16\n",
       "arg  | 9.4\n",
       "arm  | 11.74\n",
       "atg  | 6.09\n",
       "aus  | 3.5\n",
       "aut  | 3.21\n",
       "... (187 rows omitted)"
      ]
     },
     "execution_count": 11,
     "metadata": {},
     "output_type": "execute_result"
    }
   ],
   "source": [
    "c = child_mortality.where('time', 2020).drop('time')\n",
    "c"
   ]
  },
  {
   "cell_type": "code",
   "execution_count": 97,
   "metadata": {
    "deletable": false,
    "editable": false
   },
   "outputs": [
    {
     "name": "stdout",
     "output_type": "stream",
     "text": [
      "~~~~~~~~~~~~~~~~~~~~~~~~~~~~~~~~~~~~~~~~~~~~~~~~~~~~~~~~~~~~~~~~~~~~~\n",
      "Running tests\n",
      "\n",
      "---------------------------------------------------------------------\n",
      "Test summary\n",
      "    Passed: 4\n",
      "    Failed: 0\n",
      "[ooooooooook] 100.0% passed\n",
      "\n"
     ]
    }
   ],
   "source": [
    "ok.grade(\"q1_11\");"
   ]
  },
  {
   "cell_type": "markdown",
   "metadata": {
    "deletable": false,
    "editable": false
   },
   "source": [
    "**Question 12.** Create a table called `pop_by_decade` with two columns called `decade` and `population`. It has a row for each `year` since 1960 that starts a decade. The `population` column contains the total population of all countries included in the result of `stats_for_year(year)` for the first `year` of the decade. For example, 1960 is the first year of the 1960's decade. You should see that these countries contain most of the world's population.\n",
    "\n",
    "*Hint:* One approach is to define a function `pop_for_year` that computes this total population, then `apply` it to the `decade` column.  The `stats_for_year` function from the previous question may be useful here.\n",
    "\n",
    "This first test is just a sanity check for your helper function if you choose to use it. You will not lose points for not implementing the function `pop_for_year`.\n",
    "\n",
    "**Note:** The cell where you will generate the `pop_by_decade` table is below the cell where you can choose to define the helper function `pop_for_year`. You should define your `pop_by_decade` table in the cell that starts with the table `decades` being defined. \n",
    "\n",
    "<!--\n",
    "BEGIN QUESTION\n",
    "name: q1_12_0\n",
    "manual: false\n",
    "points: 0\n",
    "-->"
   ]
  },
  {
   "cell_type": "code",
   "execution_count": 98,
   "metadata": {},
   "outputs": [],
   "source": [
    "def pop_for_year(year):\n",
    "    return sum(stats_for_year(year).column('population_total'))"
   ]
  },
  {
   "cell_type": "code",
   "execution_count": 99,
   "metadata": {
    "deletable": false,
    "editable": false
   },
   "outputs": [
    {
     "name": "stdout",
     "output_type": "stream",
     "text": [
      "~~~~~~~~~~~~~~~~~~~~~~~~~~~~~~~~~~~~~~~~~~~~~~~~~~~~~~~~~~~~~~~~~~~~~\n",
      "Running tests\n",
      "\n",
      "---------------------------------------------------------------------\n",
      "Test summary\n",
      "    Passed: 4\n",
      "    Failed: 0\n",
      "[ooooooooook] 100.0% passed\n",
      "\n"
     ]
    }
   ],
   "source": [
    "ok.grade(\"q1_12_0\");"
   ]
  },
  {
   "cell_type": "markdown",
   "metadata": {
    "deletable": false,
    "editable": false
   },
   "source": [
    "Now that you've defined your helper function (if you've chosen to do so), define the `pop_by_decade` table.\n",
    "\n",
    "<!--\n",
    "BEGIN QUESTION\n",
    "name: q1_12\n",
    "manual: false\n",
    "-->"
   ]
  },
  {
   "cell_type": "code",
   "execution_count": 102,
   "metadata": {
    "deletable": false,
    "editable": false
   },
   "outputs": [
    {
     "name": "stdout",
     "output_type": "stream",
     "text": [
      "~~~~~~~~~~~~~~~~~~~~~~~~~~~~~~~~~~~~~~~~~~~~~~~~~~~~~~~~~~~~~~~~~~~~~\n",
      "Running tests\n",
      "\n",
      "---------------------------------------------------------------------\n",
      "Test summary\n",
      "    Passed: 2\n",
      "    Failed: 0\n",
      "[ooooooooook] 100.0% passed\n",
      "\n"
     ]
    }
   ],
   "source": [
    "ok.grade(\"q1_12\");"
   ]
  },
  {
   "cell_type": "code",
   "execution_count": 101,
   "metadata": {
    "deletable": false
   },
   "outputs": [
    {
     "data": {
      "text/html": [
       "<table border=\"1\" class=\"dataframe\">\n",
       "    <thead>\n",
       "        <tr>\n",
       "            <th>decade</th> <th>population</th>\n",
       "        </tr>\n",
       "    </thead>\n",
       "    <tbody>\n",
       "        <tr>\n",
       "            <td>1960  </td> <td>2,635,123,897</td>\n",
       "        </tr>\n",
       "        <tr>\n",
       "            <td>1970  </td> <td>3,221,457,416</td>\n",
       "        </tr>\n",
       "        <tr>\n",
       "            <td>1980  </td> <td>3,890,044,418</td>\n",
       "        </tr>\n",
       "        <tr>\n",
       "            <td>1990  </td> <td>4,656,339,803</td>\n",
       "        </tr>\n",
       "        <tr>\n",
       "            <td>2000  </td> <td>5,377,062,169</td>\n",
       "        </tr>\n",
       "        <tr>\n",
       "            <td>2010  </td> <td>6,064,674,132</td>\n",
       "        </tr>\n",
       "        <tr>\n",
       "            <td>2020  </td> <td>6,765,161,289</td>\n",
       "        </tr>\n",
       "    </tbody>\n",
       "</table>"
      ],
      "text/plain": [
       "decade | population\n",
       "1960   | 2,635,123,897\n",
       "1970   | 3,221,457,416\n",
       "1980   | 3,890,044,418\n",
       "1990   | 4,656,339,803\n",
       "2000   | 5,377,062,169\n",
       "2010   | 6,064,674,132\n",
       "2020   | 6,765,161,289"
      ]
     },
     "execution_count": 101,
     "metadata": {},
     "output_type": "execute_result"
    }
   ],
   "source": [
    "decades = Table().with_column('decade', np.arange(1960, 2021, 10))\n",
    "\n",
    "pop_by_decade = decades.with_column('population', decades.apply(pop_for_year, 'decade'))\n",
    "pop_by_decade.set_format(1, NumberFormatter)"
   ]
  },
  {
   "cell_type": "markdown",
   "metadata": {
    "deletable": false,
    "editable": false
   },
   "source": [
    "The `countries` table describes various characteristics of countries. The `country` column contains the same codes as the `geo` column in each of the other data tables (`population`, `fertility`, and `child_mortality`). The `world_6region` column classifies each country into a region of the world. Run the cell below to inspect the data."
   ]
  },
  {
   "cell_type": "code",
   "execution_count": 103,
   "metadata": {},
   "outputs": [
    {
     "data": {
      "text/html": [
       "<table border=\"1\" class=\"dataframe\">\n",
       "    <thead>\n",
       "        <tr>\n",
       "            <th>country</th> <th>name</th> <th>world_6region</th>\n",
       "        </tr>\n",
       "    </thead>\n",
       "    <tbody>\n",
       "        <tr>\n",
       "            <td>afg    </td> <td>Afghanistan         </td> <td>south_asia              </td>\n",
       "        </tr>\n",
       "        <tr>\n",
       "            <td>ago    </td> <td>Angola              </td> <td>sub_saharan_africa      </td>\n",
       "        </tr>\n",
       "        <tr>\n",
       "            <td>alb    </td> <td>Albania             </td> <td>europe_central_asia     </td>\n",
       "        </tr>\n",
       "        <tr>\n",
       "            <td>and    </td> <td>Andorra             </td> <td>europe_central_asia     </td>\n",
       "        </tr>\n",
       "        <tr>\n",
       "            <td>are    </td> <td>United Arab Emirates</td> <td>middle_east_north_africa</td>\n",
       "        </tr>\n",
       "        <tr>\n",
       "            <td>arg    </td> <td>Argentina           </td> <td>america                 </td>\n",
       "        </tr>\n",
       "        <tr>\n",
       "            <td>arm    </td> <td>Armenia             </td> <td>europe_central_asia     </td>\n",
       "        </tr>\n",
       "        <tr>\n",
       "            <td>atg    </td> <td>Antigua and Barbuda </td> <td>america                 </td>\n",
       "        </tr>\n",
       "        <tr>\n",
       "            <td>aus    </td> <td>Australia           </td> <td>east_asia_pacific       </td>\n",
       "        </tr>\n",
       "        <tr>\n",
       "            <td>aut    </td> <td>Austria             </td> <td>europe_central_asia     </td>\n",
       "        </tr>\n",
       "    </tbody>\n",
       "</table>\n",
       "<p>... (187 rows omitted)</p>"
      ],
      "text/plain": [
       "country | name                 | world_6region\n",
       "afg     | Afghanistan          | south_asia\n",
       "ago     | Angola               | sub_saharan_africa\n",
       "alb     | Albania              | europe_central_asia\n",
       "and     | Andorra              | europe_central_asia\n",
       "are     | United Arab Emirates | middle_east_north_africa\n",
       "arg     | Argentina            | america\n",
       "arm     | Armenia              | europe_central_asia\n",
       "atg     | Antigua and Barbuda  | america\n",
       "aus     | Australia            | east_asia_pacific\n",
       "aut     | Austria              | europe_central_asia\n",
       "... (187 rows omitted)"
      ]
     },
     "execution_count": 103,
     "metadata": {},
     "output_type": "execute_result"
    }
   ],
   "source": [
    "countries = Table.read_table('countries.csv').where('country', are.contained_in(population.group('geo').column('geo')))\n",
    "countries.select('country', 'name', 'world_6region')"
   ]
  },
  {
   "cell_type": "markdown",
   "metadata": {
    "deletable": false,
    "editable": false
   },
   "source": [
    "**Question 13.** Create a table called `region_counts` that has two columns, `region` and `count`. It should contain two columns: a region column and a count column that contains the number of countries in each region that appear in the result of `stats_for_year(2020)`. For example, one row would have `south_asia` as its `world_6region` value and an integer as its `count` value: the number of large South Asian countries for which we have population, fertility, and child mortality numbers from 2020.\n",
    "\n",
    "<!--\n",
    "BEGIN QUESTION\n",
    "name: q1_13\n",
    "-->"
   ]
  },
  {
   "cell_type": "code",
   "execution_count": 104,
   "metadata": {
    "deletable": false
   },
   "outputs": [
    {
     "data": {
      "text/html": [
       "<table border=\"1\" class=\"dataframe\">\n",
       "    <thead>\n",
       "        <tr>\n",
       "            <th>region</th> <th>count</th>\n",
       "        </tr>\n",
       "    </thead>\n",
       "    <tbody>\n",
       "        <tr>\n",
       "            <td>america                 </td> <td>8    </td>\n",
       "        </tr>\n",
       "        <tr>\n",
       "            <td>east_asia_pacific       </td> <td>9    </td>\n",
       "        </tr>\n",
       "        <tr>\n",
       "            <td>europe_central_asia     </td> <td>10   </td>\n",
       "        </tr>\n",
       "        <tr>\n",
       "            <td>middle_east_north_africa</td> <td>7    </td>\n",
       "        </tr>\n",
       "        <tr>\n",
       "            <td>south_asia              </td> <td>5    </td>\n",
       "        </tr>\n",
       "        <tr>\n",
       "            <td>sub_saharan_africa      </td> <td>11   </td>\n",
       "        </tr>\n",
       "    </tbody>\n",
       "</table>"
      ],
      "text/plain": [
       "region                   | count\n",
       "america                  | 8\n",
       "east_asia_pacific        | 9\n",
       "europe_central_asia      | 10\n",
       "middle_east_north_africa | 7\n",
       "south_asia               | 5\n",
       "sub_saharan_africa       | 11"
      ]
     },
     "execution_count": 104,
     "metadata": {},
     "output_type": "execute_result"
    }
   ],
   "source": [
    "region_counts = stats_for_year(2020).join('geo', countries, 'country').group('world_6region').relabeled('world_6region', 'region')\n",
    "region_counts"
   ]
  },
  {
   "cell_type": "code",
   "execution_count": 105,
   "metadata": {
    "deletable": false,
    "editable": false
   },
   "outputs": [
    {
     "name": "stdout",
     "output_type": "stream",
     "text": [
      "~~~~~~~~~~~~~~~~~~~~~~~~~~~~~~~~~~~~~~~~~~~~~~~~~~~~~~~~~~~~~~~~~~~~~\n",
      "Running tests\n",
      "\n",
      "---------------------------------------------------------------------\n",
      "Test summary\n",
      "    Passed: 2\n",
      "    Failed: 0\n",
      "[ooooooooook] 100.0% passed\n",
      "\n"
     ]
    }
   ],
   "source": [
    "ok.grade(\"q1_13\");"
   ]
  },
  {
   "cell_type": "markdown",
   "metadata": {
    "deletable": false,
    "editable": false
   },
   "source": [
    "The following scatter diagram compares total fertility rate and child mortality rate for each country in 2020. The area of each dot represents the population of the country, and the color represents its region of the world. Run the cell. Do you think you can identify any of the dots?"
   ]
  },
  {
   "cell_type": "code",
   "execution_count": 106,
   "metadata": {
    "deletable": false
   },
   "outputs": [
    {
     "data": {
      "image/png": "[encoded data removed]",
      "text/plain": [
       "<Figure size 360x360 with 1 Axes>"
      ]
     },
     "metadata": {},
     "output_type": "display_data"
    }
   ],
   "source": [
    "from functools import lru_cache as cache\n",
    "\n",
    "# This cache annotation makes sure that if the same year\n",
    "# is passed as an argument twice, the work of computing\n",
    "# the result is only carried out once.\n",
    "@cache(None)\n",
    "def stats_relabeled(year):\n",
    "    \"\"\"Relabeled and cached version of stats_for_year.\"\"\"\n",
    "    return stats_for_year(year).relabel(2, 'Children per woman').relabel(3, 'Child deaths per 1000 born')\n",
    "\n",
    "def fertility_vs_child_mortality(year):\n",
    "    \"\"\"Draw a color scatter diagram comparing child mortality and fertility.\"\"\"\n",
    "    with_region = stats_relabeled(year).join('geo', countries.select('country', 'world_6region'), 'country')\n",
    "    with_region.scatter(2, 3, sizes=1, group=4, s=500)\n",
    "    plots.xlim(0,6)\n",
    "    plots.ylim(-25, 150)\n",
    "    plots.title(year)\n",
    "\n",
    "fertility_vs_child_mortality(2020)"
   ]
  },
  {
   "cell_type": "markdown",
   "metadata": {
    "deletable": false,
    "editable": false
   },
   "source": [
    "**Question 14.** Assign `scatter_statements` to an array of the numbers of each statement below that can be inferred from this scatter diagram for 2020. \n",
    "1. As a whole, the `europe_central_asia` region had the lowest child mortality rate.\n",
    "1. The lowest child mortality rate of any country was from an `east_asia_pacific` country.\n",
    "1. Most countries had a fertility rate above 5.\n",
    "1. There was an association between child mortality and fertility.\n",
    "1. The two largest countries by population also had the two highest child mortality rate.\n",
    "\n",
    "<!--\n",
    "BEGIN QUESTION\n",
    "name: q1_14\n",
    "-->"
   ]
  },
  {
   "cell_type": "code",
   "execution_count": 107,
   "metadata": {
    "deletable": false
   },
   "outputs": [],
   "source": [
    "scatter_statements = make_array(1, 2, 4)"
   ]
  },
  {
   "cell_type": "code",
   "execution_count": 108,
   "metadata": {
    "deletable": false,
    "editable": false
   },
   "outputs": [
    {
     "name": "stdout",
     "output_type": "stream",
     "text": [
      "~~~~~~~~~~~~~~~~~~~~~~~~~~~~~~~~~~~~~~~~~~~~~~~~~~~~~~~~~~~~~~~~~~~~~\n",
      "Running tests\n",
      "\n",
      "---------------------------------------------------------------------\n",
      "Test summary\n",
      "    Passed: 1\n",
      "    Failed: 0\n",
      "[ooooooooook] 100.0% passed\n",
      "\n"
     ]
    }
   ],
   "source": [
    "ok.grade(\"q1_14\");"
   ]
  },
  {
   "cell_type": "markdown",
   "metadata": {
    "deletable": false
   },
   "source": [
    "The result of the cell below is interactive. Drag the slider to the right to see how countries have changed over time. You'll find that the great divide between so-called \"Western\" and \"developing\" countries that existed in the 1960's has nearly disappeared. This shift in fertility rates is the reason that the global population is expected to grow more slowly in the 21st century than it did in the 19th and 20th centuries.\n",
    "\n",
    "**Note:** Don't worry if a red warning pops up when running the cell below. You'll still be able to run the cell!"
   ]
  },
  {
   "cell_type": "code",
   "execution_count": 109,
   "metadata": {
    "deletable": false,
    "scrolled": true
   },
   "outputs": [
    {
     "name": "stderr",
     "output_type": "stream",
     "text": [
      "/opt/conda/lib/python3.8/site-packages/datascience/tables.py:193: FutureWarning: Implicit column method lookup is deprecated.\n",
      "  warnings.warn(\"Implicit column method lookup is deprecated.\", FutureWarning)\n"
     ]
    },
    {
     "data": {
      "application/vnd.jupyter.widget-view+json": {
       "model_id": "b09a28fc609a4ed5a509f9ab509cad6c",
       "version_major": 2,
       "version_minor": 0
      },
      "text/plain": [
       "interactive(children=(IntSlider(value=1960, description='year', max=2015, min=1960), Output()), _dom_classes=(…"
      ]
     },
     "metadata": {},
     "output_type": "display_data"
    }
   ],
   "source": [
    "import ipywidgets as widgets\n",
    "\n",
    "# This part takes a few minutes to run because it \n",
    "# computes 55 tables in advance: one for each year.\n",
    "Table().with_column('Year', np.arange(1960, 2016)).apply(stats_relabeled, 'Year')\n",
    "\n",
    "_ = widgets.interact(fertility_vs_child_mortality, \n",
    "                     year=widgets.IntSlider(min=1960, max=2015, value=1960))"
   ]
  },
  {
   "cell_type": "markdown",
   "metadata": {
    "deletable": false,
    "editable": false
   },
   "source": [
    "Now is a great time to take a break and watch the same data presented by [Hans Rosling in a 2010 TEDx talk](https://www.gapminder.org/videos/reducing-child-mortality-a-moral-and-environmental-imperative) with smoother animation and witty commentary."
   ]
  },
  {
   "cell_type": "markdown",
   "metadata": {
    "deletable": false,
    "editable": false
   },
   "source": [
    "## 2. Global Poverty\n"
   ]
  },
  {
   "cell_type": "markdown",
   "metadata": {
    "deletable": false,
    "editable": false
   },
   "source": [
    "In 1800, 85% of the world's 1 billion people lived in *extreme poverty*, defined by the United Nations as \"a condition characterized by severe deprivation of basic human needs, including food, safe drinking water, sanitation facilities, health, shelter, education and information.\" A common measure of extreme poverty is a person living on less than \\$1.25 per day.\n",
    "\n",
    "In 2018, the proportion of people living in extreme poverty was estimated to be 8%. Although the world rate of extreme poverty has declined consistently for hundreds of years, the number of people living in extreme poverty is still over 600 million. The United Nations recently adopted an [ambitious goal](http://www.un.org/sustainabledevelopment/poverty/): \"By 2030, eradicate extreme poverty for all people everywhere.\"\n",
    "In this section, we will examine extreme poverty trends around the world."
   ]
  },
  {
   "cell_type": "markdown",
   "metadata": {
    "deletable": false,
    "editable": false
   },
   "source": [
    "First, load the population and poverty rate by country and year and the country descriptions. While the `population` table has values for every recent year for many countries, the `poverty` table only includes certain years for each country in which a measurement of the rate of extreme poverty was available."
   ]
  },
  {
   "cell_type": "code",
   "execution_count": 117,
   "metadata": {},
   "outputs": [
    {
     "data": {
      "text/html": [
       "<table border=\"1\" class=\"dataframe\">\n",
       "    <thead>\n",
       "        <tr>\n",
       "            <th>geo</th> <th>time</th> <th>extreme_poverty_percent_people_below_125_a_day</th>\n",
       "        </tr>\n",
       "    </thead>\n",
       "    <tbody>\n",
       "        <tr>\n",
       "            <td>alb </td> <td>1996</td> <td>0.2                                           </td>\n",
       "        </tr>\n",
       "        <tr>\n",
       "            <td>alb </td> <td>2002</td> <td>0.73                                          </td>\n",
       "        </tr>\n",
       "        <tr>\n",
       "            <td>alb </td> <td>2004</td> <td>0.53                                          </td>\n",
       "        </tr>\n",
       "        <tr>\n",
       "            <td>alb </td> <td>2005</td> <td>0.44                                          </td>\n",
       "        </tr>\n",
       "        <tr>\n",
       "            <td>alb </td> <td>2008</td> <td>0.2                                           </td>\n",
       "        </tr>\n",
       "        <tr>\n",
       "            <td>alb </td> <td>2012</td> <td>0.46                                          </td>\n",
       "        </tr>\n",
       "    </tbody>\n",
       "</table>\n",
       "<p>... (1093 rows omitted)</p>"
      ],
      "text/plain": [
       "<IPython.core.display.HTML object>"
      ]
     },
     "metadata": {},
     "output_type": "display_data"
    }
   ],
   "source": [
    "population = Table.read_table('population.csv')\n",
    "countries = Table.read_table('countries.csv').where('country', are.contained_in(population.group('geo').column('geo')))\n",
    "poverty = Table.read_table('poverty.csv')\n",
    "poverty.show(6)"
   ]
  },
  {
   "cell_type": "markdown",
   "metadata": {
    "deletable": false,
    "editable": false
   },
   "source": [
    "**Question 1.** Assign `latest_poverty` to a three-column table with one row for each country that appears in the `poverty` table. The first column should contain the 3-letter code for the country. The second column should contain the most recent year for which an extreme poverty rate is available for the country. The third column should contain the poverty rate in that year. **Do not change the last line, so that the labels of your table are set correctly.**\n",
    "\n",
    "*Hint*: think about how ```group``` works: it does a sequential search of the table (from top to bottom) and collects values in the array in the order in which they appear, and then applies a function to that array. The `first` function may be helpful, but you are not required to use it.\n",
    "\n",
    "<!--\n",
    "BEGIN QUESTION\n",
    "name: q2_1\n",
    "-->"
   ]
  },
  {
   "cell_type": "code",
   "execution_count": 118,
   "metadata": {
    "deletable": false
   },
   "outputs": [
    {
     "data": {
      "text/html": [
       "<table border=\"1\" class=\"dataframe\">\n",
       "    <thead>\n",
       "        <tr>\n",
       "            <th>geo</th> <th>time</th> <th>poverty_percent</th>\n",
       "        </tr>\n",
       "    </thead>\n",
       "    <tbody>\n",
       "        <tr>\n",
       "            <td>ago </td> <td>2009</td> <td>43.37          </td>\n",
       "        </tr>\n",
       "        <tr>\n",
       "            <td>alb </td> <td>2012</td> <td>0.46           </td>\n",
       "        </tr>\n",
       "        <tr>\n",
       "            <td>arg </td> <td>2011</td> <td>1.41           </td>\n",
       "        </tr>\n",
       "        <tr>\n",
       "            <td>arm </td> <td>2012</td> <td>1.75           </td>\n",
       "        </tr>\n",
       "        <tr>\n",
       "            <td>aus </td> <td>2003</td> <td>1.36           </td>\n",
       "        </tr>\n",
       "        <tr>\n",
       "            <td>aut </td> <td>2004</td> <td>0.34           </td>\n",
       "        </tr>\n",
       "        <tr>\n",
       "            <td>aze </td> <td>2008</td> <td>0.31           </td>\n",
       "        </tr>\n",
       "        <tr>\n",
       "            <td>bdi </td> <td>2006</td> <td>81.32          </td>\n",
       "        </tr>\n",
       "        <tr>\n",
       "            <td>bel </td> <td>2000</td> <td>0.5            </td>\n",
       "        </tr>\n",
       "        <tr>\n",
       "            <td>ben </td> <td>2012</td> <td>51.61          </td>\n",
       "        </tr>\n",
       "    </tbody>\n",
       "</table>\n",
       "<p>... (135 rows omitted)</p>"
      ],
      "text/plain": [
       "geo  | time | poverty_percent\n",
       "ago  | 2009 | 43.37\n",
       "alb  | 2012 | 0.46\n",
       "arg  | 2011 | 1.41\n",
       "arm  | 2012 | 1.75\n",
       "aus  | 2003 | 1.36\n",
       "aut  | 2004 | 0.34\n",
       "aze  | 2008 | 0.31\n",
       "bdi  | 2006 | 81.32\n",
       "bel  | 2000 | 0.5\n",
       "ben  | 2012 | 51.61\n",
       "... (135 rows omitted)"
      ]
     },
     "execution_count": 118,
     "metadata": {},
     "output_type": "execute_result"
    }
   ],
   "source": [
    "def first(values):\n",
    "    return values.item(0)\n",
    "\n",
    "latest_poverty = poverty.sort('time', descending = True).group('geo', first)\n",
    "latest_poverty = latest_poverty.relabeled(0, 'geo').relabeled(1, 'time').relabeled(2, 'poverty_percent') # You should *not* change this line.\n",
    "latest_poverty"
   ]
  },
  {
   "cell_type": "code",
   "execution_count": 119,
   "metadata": {
    "deletable": false,
    "editable": false
   },
   "outputs": [
    {
     "name": "stdout",
     "output_type": "stream",
     "text": [
      "~~~~~~~~~~~~~~~~~~~~~~~~~~~~~~~~~~~~~~~~~~~~~~~~~~~~~~~~~~~~~~~~~~~~~\n",
      "Running tests\n",
      "\n",
      "---------------------------------------------------------------------\n",
      "Test summary\n",
      "    Passed: 2\n",
      "    Failed: 0\n",
      "[ooooooooook] 100.0% passed\n",
      "\n"
     ]
    }
   ],
   "source": [
    "ok.grade(\"q2_1\");"
   ]
  },
  {
   "cell_type": "markdown",
   "metadata": {
    "deletable": false,
    "editable": false
   },
   "source": [
    "**Question 2.** Using both `latest_poverty` and `population`, create a four-column table called `recent_poverty_total` with one row for each country in `latest_poverty`. The four columns should have the following labels and contents:\n",
    "1. `geo` contains the 3-letter country code,\n",
    "1. `poverty_percent` contains the most recent poverty percent,\n",
    "1. `population_total` contains the population of the country in 2010,\n",
    "1. `poverty_total` contains the number of people in poverty **rounded to the nearest integer**, based on the 2010 population and most recent poverty rate.\n",
    "\n",
    "<!--\n",
    "BEGIN QUESTION\n",
    "name: q2_2\n",
    "-->"
   ]
  },
  {
   "cell_type": "code",
   "execution_count": 120,
   "metadata": {
    "deletable": false
   },
   "outputs": [
    {
     "data": {
      "text/html": [
       "<table border=\"1\" class=\"dataframe\">\n",
       "    <thead>\n",
       "        <tr>\n",
       "            <th>geo</th> <th>poverty_percent</th> <th>population_total</th> <th>poverty_total</th>\n",
       "        </tr>\n",
       "    </thead>\n",
       "    <tbody>\n",
       "        <tr>\n",
       "            <td>ago </td> <td>43.37          </td> <td>23356247        </td> <td>1.01296e+07  </td>\n",
       "        </tr>\n",
       "        <tr>\n",
       "            <td>alb </td> <td>0.46           </td> <td>2948029         </td> <td>13561        </td>\n",
       "        </tr>\n",
       "        <tr>\n",
       "            <td>arg </td> <td>1.41           </td> <td>40895751        </td> <td>576630       </td>\n",
       "        </tr>\n",
       "        <tr>\n",
       "            <td>arm </td> <td>1.75           </td> <td>2877314         </td> <td>50353        </td>\n",
       "        </tr>\n",
       "        <tr>\n",
       "            <td>aus </td> <td>1.36           </td> <td>22154687        </td> <td>301304       </td>\n",
       "        </tr>\n",
       "        <tr>\n",
       "            <td>aut </td> <td>0.34           </td> <td>8409945         </td> <td>28594        </td>\n",
       "        </tr>\n",
       "        <tr>\n",
       "            <td>aze </td> <td>0.31           </td> <td>9032465         </td> <td>28001        </td>\n",
       "        </tr>\n",
       "        <tr>\n",
       "            <td>bdi </td> <td>81.32          </td> <td>8675606         </td> <td>7.055e+06    </td>\n",
       "        </tr>\n",
       "        <tr>\n",
       "            <td>bel </td> <td>0.5            </td> <td>10938735        </td> <td>54694        </td>\n",
       "        </tr>\n",
       "        <tr>\n",
       "            <td>ben </td> <td>51.61          </td> <td>9199254         </td> <td>4.74774e+06  </td>\n",
       "        </tr>\n",
       "    </tbody>\n",
       "</table>\n",
       "<p>... (135 rows omitted)</p>"
      ],
      "text/plain": [
       "geo  | poverty_percent | population_total | poverty_total\n",
       "ago  | 43.37           | 23356247         | 1.01296e+07\n",
       "alb  | 0.46            | 2948029          | 13561\n",
       "arg  | 1.41            | 40895751         | 576630\n",
       "arm  | 1.75            | 2877314          | 50353\n",
       "aus  | 1.36            | 22154687         | 301304\n",
       "aut  | 0.34            | 8409945          | 28594\n",
       "aze  | 0.31            | 9032465          | 28001\n",
       "bdi  | 81.32           | 8675606          | 7.055e+06\n",
       "bel  | 0.5             | 10938735         | 54694\n",
       "ben  | 51.61           | 9199254          | 4.74774e+06\n",
       "... (135 rows omitted)"
      ]
     },
     "execution_count": 120,
     "metadata": {},
     "output_type": "execute_result"
    }
   ],
   "source": [
    "population = population.sort('geo')\n",
    "population_latest = latest_poverty.drop('time')\n",
    "population_latest_2020 = population.where('time', are.equal_to(2010))\n",
    "population_with_percent = population_latest.join('geo', population_latest_2020, 'geo').drop('time')\n",
    "poverty_total = (np.round(population_with_percent.column('poverty_percent') / 100 * population_with_percent.column('population_total')))\n",
    "recent_poverty_total = population_with_percent.with_column('poverty_total', poverty_total)\n",
    "recent_poverty_total"
   ]
  },
  {
   "cell_type": "code",
   "execution_count": null,
   "metadata": {},
   "outputs": [],
   "source": []
  },
  {
   "cell_type": "code",
   "execution_count": null,
   "metadata": {},
   "outputs": [],
   "source": [
    "population"
   ]
  },
  {
   "cell_type": "code",
   "execution_count": null,
   "metadata": {},
   "outputs": [],
   "source": [
    "poverty"
   ]
  },
  {
   "cell_type": "code",
   "execution_count": null,
   "metadata": {},
   "outputs": [],
   "source": [
    "countries"
   ]
  },
  {
   "cell_type": "code",
   "execution_count": 121,
   "metadata": {
    "deletable": false,
    "editable": false
   },
   "outputs": [
    {
     "name": "stdout",
     "output_type": "stream",
     "text": [
      "~~~~~~~~~~~~~~~~~~~~~~~~~~~~~~~~~~~~~~~~~~~~~~~~~~~~~~~~~~~~~~~~~~~~~\n",
      "Running tests\n",
      "\n",
      "---------------------------------------------------------------------\n",
      "Test summary\n",
      "    Passed: 3\n",
      "    Failed: 0\n",
      "[ooooooooook] 100.0% passed\n",
      "\n"
     ]
    }
   ],
   "source": [
    "ok.grade(\"q2_2\");"
   ]
  },
  {
   "cell_type": "markdown",
   "metadata": {
    "deletable": false,
    "editable": false
   },
   "source": [
    "**Question 3.** Assign the name `poverty_percent` to the known percentage of the world’s 2010 population that were living in extreme poverty. Assume that the `poverty_total` numbers in the `recent_poverty_total` table describe **all** people in 2010 living in extreme poverty. You should find a number that is above the 2018 global estimate of 8%, since many country-specific poverty rates are older than 2018.\n",
    "\n",
    "*Hint*: The sum of the `population_total` column in the `recent_poverty_total` table is not the world population, because only a subset of the world's countries are included in the `recent_poverty_total` table (only some countries have known poverty rates). Use the `population` table to compute the world's 2010 total population..\n",
    "\n",
    "<!--\n",
    "BEGIN QUESTION\n",
    "name: q2_3\n",
    "-->"
   ]
  },
  {
   "cell_type": "code",
   "execution_count": 122,
   "metadata": {
    "deletable": false
   },
   "outputs": [
    {
     "data": {
      "text/plain": [
       "14.248865303997139"
      ]
     },
     "execution_count": 122,
     "metadata": {},
     "output_type": "execute_result"
    }
   ],
   "source": [
    "world_population_sum = sum(population.where('time', are.equal_to(2010)).column('population_total'))\n",
    "poverty_sum = sum(recent_poverty_total.column('poverty_total'))\n",
    "poverty_percent = (poverty_sum / world_population_sum) * 100\n",
    "poverty_percent"
   ]
  },
  {
   "cell_type": "code",
   "execution_count": null,
   "metadata": {},
   "outputs": [],
   "source": []
  },
  {
   "cell_type": "code",
   "execution_count": 123,
   "metadata": {
    "deletable": false,
    "editable": false
   },
   "outputs": [
    {
     "name": "stdout",
     "output_type": "stream",
     "text": [
      "~~~~~~~~~~~~~~~~~~~~~~~~~~~~~~~~~~~~~~~~~~~~~~~~~~~~~~~~~~~~~~~~~~~~~\n",
      "Running tests\n",
      "\n",
      "---------------------------------------------------------------------\n",
      "Test summary\n",
      "    Passed: 1\n",
      "    Failed: 0\n",
      "[ooooooooook] 100.0% passed\n",
      "\n"
     ]
    }
   ],
   "source": [
    "ok.grade(\"q2_3\");"
   ]
  },
  {
   "cell_type": "markdown",
   "metadata": {
    "deletable": false,
    "editable": false
   },
   "source": [
    "The `countries` table includes not only the name and region of countries, but also their positions on the globe."
   ]
  },
  {
   "cell_type": "code",
   "execution_count": 124,
   "metadata": {
    "deletable": false,
    "editable": false
   },
   "outputs": [
    {
     "data": {
      "text/html": [
       "<table border=\"1\" class=\"dataframe\">\n",
       "    <thead>\n",
       "        <tr>\n",
       "            <th>country</th> <th>name</th> <th>world_4region</th> <th>latitude</th> <th>longitude</th>\n",
       "        </tr>\n",
       "    </thead>\n",
       "    <tbody>\n",
       "        <tr>\n",
       "            <td>afg    </td> <td>Afghanistan         </td> <td>asia         </td> <td>33      </td> <td>66       </td>\n",
       "        </tr>\n",
       "        <tr>\n",
       "            <td>ago    </td> <td>Angola              </td> <td>africa       </td> <td>-12.5   </td> <td>18.5     </td>\n",
       "        </tr>\n",
       "        <tr>\n",
       "            <td>alb    </td> <td>Albania             </td> <td>europe       </td> <td>41      </td> <td>20       </td>\n",
       "        </tr>\n",
       "        <tr>\n",
       "            <td>and    </td> <td>Andorra             </td> <td>europe       </td> <td>42.5078 </td> <td>1.52109  </td>\n",
       "        </tr>\n",
       "        <tr>\n",
       "            <td>are    </td> <td>United Arab Emirates</td> <td>asia         </td> <td>23.75   </td> <td>54.5     </td>\n",
       "        </tr>\n",
       "        <tr>\n",
       "            <td>arg    </td> <td>Argentina           </td> <td>americas     </td> <td>-34     </td> <td>-64      </td>\n",
       "        </tr>\n",
       "        <tr>\n",
       "            <td>arm    </td> <td>Armenia             </td> <td>europe       </td> <td>40.25   </td> <td>45       </td>\n",
       "        </tr>\n",
       "        <tr>\n",
       "            <td>atg    </td> <td>Antigua and Barbuda </td> <td>americas     </td> <td>17.05   </td> <td>-61.8    </td>\n",
       "        </tr>\n",
       "        <tr>\n",
       "            <td>aus    </td> <td>Australia           </td> <td>asia         </td> <td>-25     </td> <td>135      </td>\n",
       "        </tr>\n",
       "        <tr>\n",
       "            <td>aut    </td> <td>Austria             </td> <td>europe       </td> <td>47.3333 </td> <td>13.3333  </td>\n",
       "        </tr>\n",
       "    </tbody>\n",
       "</table>\n",
       "<p>... (187 rows omitted)</p>"
      ],
      "text/plain": [
       "country | name                 | world_4region | latitude | longitude\n",
       "afg     | Afghanistan          | asia          | 33       | 66\n",
       "ago     | Angola               | africa        | -12.5    | 18.5\n",
       "alb     | Albania              | europe        | 41       | 20\n",
       "and     | Andorra              | europe        | 42.5078  | 1.52109\n",
       "are     | United Arab Emirates | asia          | 23.75    | 54.5\n",
       "arg     | Argentina            | americas      | -34      | -64\n",
       "arm     | Armenia              | europe        | 40.25    | 45\n",
       "atg     | Antigua and Barbuda  | americas      | 17.05    | -61.8\n",
       "aus     | Australia            | asia          | -25      | 135\n",
       "aut     | Austria              | europe        | 47.3333  | 13.3333\n",
       "... (187 rows omitted)"
      ]
     },
     "execution_count": 124,
     "metadata": {},
     "output_type": "execute_result"
    }
   ],
   "source": [
    "countries.select('country', 'name', 'world_4region', 'latitude', 'longitude')"
   ]
  },
  {
   "cell_type": "markdown",
   "metadata": {
    "deletable": false,
    "editable": false
   },
   "source": [
    "**Question 4.** Using both `countries` and `recent_poverty_total`, create a five-column table called `poverty_map` with one row for every country in `recent_poverty_total`.  The five columns should have the following labels and contents:\n",
    "1. `latitude` contains the country's latitude,\n",
    "1. `longitude` contains the country's longitude,\n",
    "1. `name` contains the country's name,\n",
    "1. `region` contains the country's region from the `world_4region` column of `countries`,\n",
    "1. `poverty_total` contains the country's poverty total.\n",
    "\n",
    "<!--\n",
    "BEGIN QUESTION\n",
    "name: q2_4\n",
    "-->"
   ]
  },
  {
   "cell_type": "code",
   "execution_count": 125,
   "metadata": {
    "deletable": false
   },
   "outputs": [
    {
     "data": {
      "text/html": [
       "<table border=\"1\" class=\"dataframe\">\n",
       "    <thead>\n",
       "        <tr>\n",
       "            <th>latitude</th> <th>longitude</th> <th>name</th> <th>region</th> <th>poverty_total</th>\n",
       "        </tr>\n",
       "    </thead>\n",
       "    <tbody>\n",
       "        <tr>\n",
       "            <td>-12.5   </td> <td>18.5     </td> <td>Angola    </td> <td>africa  </td> <td>1.01296e+07  </td>\n",
       "        </tr>\n",
       "        <tr>\n",
       "            <td>41      </td> <td>20       </td> <td>Albania   </td> <td>europe  </td> <td>13561        </td>\n",
       "        </tr>\n",
       "        <tr>\n",
       "            <td>-34     </td> <td>-64      </td> <td>Argentina </td> <td>americas</td> <td>576630       </td>\n",
       "        </tr>\n",
       "        <tr>\n",
       "            <td>40.25   </td> <td>45       </td> <td>Armenia   </td> <td>europe  </td> <td>50353        </td>\n",
       "        </tr>\n",
       "        <tr>\n",
       "            <td>-25     </td> <td>135      </td> <td>Australia </td> <td>asia    </td> <td>301304       </td>\n",
       "        </tr>\n",
       "        <tr>\n",
       "            <td>47.3333 </td> <td>13.3333  </td> <td>Austria   </td> <td>europe  </td> <td>28594        </td>\n",
       "        </tr>\n",
       "        <tr>\n",
       "            <td>40.5    </td> <td>47.5     </td> <td>Azerbaijan</td> <td>europe  </td> <td>28001        </td>\n",
       "        </tr>\n",
       "        <tr>\n",
       "            <td>-3.5    </td> <td>30       </td> <td>Burundi   </td> <td>africa  </td> <td>7.055e+06    </td>\n",
       "        </tr>\n",
       "        <tr>\n",
       "            <td>50.75   </td> <td>4.5      </td> <td>Belgium   </td> <td>europe  </td> <td>54694        </td>\n",
       "        </tr>\n",
       "        <tr>\n",
       "            <td>9.5     </td> <td>2.25     </td> <td>Benin     </td> <td>africa  </td> <td>4.74774e+06  </td>\n",
       "        </tr>\n",
       "    </tbody>\n",
       "</table>\n",
       "<p>... (135 rows omitted)</p>"
      ],
      "text/plain": [
       "latitude | longitude | name       | region   | poverty_total\n",
       "-12.5    | 18.5      | Angola     | africa   | 1.01296e+07\n",
       "41       | 20        | Albania    | europe   | 13561\n",
       "-34      | -64       | Argentina  | americas | 576630\n",
       "40.25    | 45        | Armenia    | europe   | 50353\n",
       "-25      | 135       | Australia  | asia     | 301304\n",
       "47.3333  | 13.3333   | Austria    | europe   | 28594\n",
       "40.5     | 47.5      | Azerbaijan | europe   | 28001\n",
       "-3.5     | 30        | Burundi    | africa   | 7.055e+06\n",
       "50.75    | 4.5       | Belgium    | europe   | 54694\n",
       "9.5      | 2.25      | Benin      | africa   | 4.74774e+06\n",
       "... (135 rows omitted)"
      ]
     },
     "execution_count": 125,
     "metadata": {},
     "output_type": "execute_result"
    }
   ],
   "source": [
    "recent_country_poverty = recent_poverty_total.drop('poverty_percent', 'population_total').join('geo', countries.select('country', 'name', 'world_4region', 'latitude', 'longitude'), 'country')\n",
    "\n",
    "poverty_map = Table().with_columns('latitude', recent_country_poverty.column('latitude'), \n",
    "                                 'longitude', recent_country_poverty.column('longitude'), \n",
    "                                 'name', recent_country_poverty.column('name'), \n",
    "                                 'region', recent_country_poverty.column('world_4region'), \n",
    "                                 'poverty_total', recent_country_poverty.column('poverty_total'))\n",
    "poverty_map"
   ]
  },
  {
   "cell_type": "code",
   "execution_count": 126,
   "metadata": {},
   "outputs": [
    {
     "data": {
      "text/html": [
       "<table border=\"1\" class=\"dataframe\">\n",
       "    <thead>\n",
       "        <tr>\n",
       "            <th>geo</th> <th>poverty_total</th> <th>name</th> <th>world_4region</th> <th>latitude</th> <th>longitude</th>\n",
       "        </tr>\n",
       "    </thead>\n",
       "    <tbody>\n",
       "        <tr>\n",
       "            <td>ago </td> <td>1.01296e+07  </td> <td>Angola    </td> <td>africa       </td> <td>-12.5   </td> <td>18.5     </td>\n",
       "        </tr>\n",
       "        <tr>\n",
       "            <td>alb </td> <td>13561        </td> <td>Albania   </td> <td>europe       </td> <td>41      </td> <td>20       </td>\n",
       "        </tr>\n",
       "        <tr>\n",
       "            <td>arg </td> <td>576630       </td> <td>Argentina </td> <td>americas     </td> <td>-34     </td> <td>-64      </td>\n",
       "        </tr>\n",
       "        <tr>\n",
       "            <td>arm </td> <td>50353        </td> <td>Armenia   </td> <td>europe       </td> <td>40.25   </td> <td>45       </td>\n",
       "        </tr>\n",
       "        <tr>\n",
       "            <td>aus </td> <td>301304       </td> <td>Australia </td> <td>asia         </td> <td>-25     </td> <td>135      </td>\n",
       "        </tr>\n",
       "        <tr>\n",
       "            <td>aut </td> <td>28594        </td> <td>Austria   </td> <td>europe       </td> <td>47.3333 </td> <td>13.3333  </td>\n",
       "        </tr>\n",
       "        <tr>\n",
       "            <td>aze </td> <td>28001        </td> <td>Azerbaijan</td> <td>europe       </td> <td>40.5    </td> <td>47.5     </td>\n",
       "        </tr>\n",
       "        <tr>\n",
       "            <td>bdi </td> <td>7.055e+06    </td> <td>Burundi   </td> <td>africa       </td> <td>-3.5    </td> <td>30       </td>\n",
       "        </tr>\n",
       "        <tr>\n",
       "            <td>bel </td> <td>54694        </td> <td>Belgium   </td> <td>europe       </td> <td>50.75   </td> <td>4.5      </td>\n",
       "        </tr>\n",
       "        <tr>\n",
       "            <td>ben </td> <td>4.74774e+06  </td> <td>Benin     </td> <td>africa       </td> <td>9.5     </td> <td>2.25     </td>\n",
       "        </tr>\n",
       "    </tbody>\n",
       "</table>\n",
       "<p>... (135 rows omitted)</p>"
      ],
      "text/plain": [
       "geo  | poverty_total | name       | world_4region | latitude | longitude\n",
       "ago  | 1.01296e+07   | Angola     | africa        | -12.5    | 18.5\n",
       "alb  | 13561         | Albania    | europe        | 41       | 20\n",
       "arg  | 576630        | Argentina  | americas      | -34      | -64\n",
       "arm  | 50353         | Armenia    | europe        | 40.25    | 45\n",
       "aus  | 301304        | Australia  | asia          | -25      | 135\n",
       "aut  | 28594         | Austria    | europe        | 47.3333  | 13.3333\n",
       "aze  | 28001         | Azerbaijan | europe        | 40.5     | 47.5\n",
       "bdi  | 7.055e+06     | Burundi    | africa        | -3.5     | 30\n",
       "bel  | 54694         | Belgium    | europe        | 50.75    | 4.5\n",
       "ben  | 4.74774e+06   | Benin      | africa        | 9.5      | 2.25\n",
       "... (135 rows omitted)"
      ]
     },
     "execution_count": 126,
     "metadata": {},
     "output_type": "execute_result"
    }
   ],
   "source": [
    "recent_country_poverty = recent_poverty_total.drop('poverty_percent', 'population_total').join('geo', countries.select('country', 'name', 'world_4region', 'latitude', 'longitude'), 'country')\n",
    "recent_country_poverty\n"
   ]
  },
  {
   "cell_type": "code",
   "execution_count": 127,
   "metadata": {
    "deletable": false,
    "editable": false
   },
   "outputs": [
    {
     "name": "stdout",
     "output_type": "stream",
     "text": [
      "~~~~~~~~~~~~~~~~~~~~~~~~~~~~~~~~~~~~~~~~~~~~~~~~~~~~~~~~~~~~~~~~~~~~~\n",
      "Running tests\n",
      "\n",
      "---------------------------------------------------------------------\n",
      "Test summary\n",
      "    Passed: 2\n",
      "    Failed: 0\n",
      "[ooooooooook] 100.0% passed\n",
      "\n"
     ]
    }
   ],
   "source": [
    "ok.grade(\"q2_4\");"
   ]
  },
  {
   "cell_type": "markdown",
   "metadata": {
    "deletable": false,
    "editable": false
   },
   "source": [
    "Run the cell below to draw a map of the world in which the areas of circles represent the number of people living in extreme poverty. Double-click on the map to zoom in."
   ]
  },
  {
   "cell_type": "code",
   "execution_count": 128,
   "metadata": {
    "deletable": false,
    "editable": false
   },
   "outputs": [
    {
     "data": {
      "text/html": [
       "<div style=\"width:100%;\"><div style=\"position:relative;width:100%;height:0;padding-bottom:60%;\"><span style=\"color:#565656\">Make this Notebook Trusted to load map: File -> Trust Notebook</span><iframe src=\"about:blank\" style=\"position:absolute;width:100%;height:100%;left:0;top:0;border:none !important;\" data-html=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 onload=\"this.contentDocument.open();this.contentDocument.write(atob(this.getAttribute('data-html')));this.contentDocument.close();\" allowfullscreen webkitallowfullscreen mozallowfullscreen></iframe></div></div>"
      ],
      "text/plain": [
       "<datascience.maps.Map at 0x7faceb44aa90>"
      ]
     },
     "execution_count": 128,
     "metadata": {},
     "output_type": "execute_result"
    }
   ],
   "source": [
    "# It may take a few seconds to generate this map.\n",
    "colors = {'africa': 'blue', 'europe': 'black', 'asia': 'red', 'americas': 'green'}\n",
    "scaled = poverty_map.with_columns(\n",
    "    'poverty_total', 1e-4 * poverty_map.column('poverty_total'),\n",
    "    'region', poverty_map.apply(colors.get, 'region')\n",
    ")\n",
    "Circle.map_table(scaled)"
   ]
  },
  {
   "cell_type": "markdown",
   "metadata": {
    "deletable": false,
    "editable": false
   },
   "source": [
    "Although people live in extreme poverty throughout the world (with more than 5 million in the United States), the largest numbers are in Asia and Africa."
   ]
  },
  {
   "cell_type": "markdown",
   "metadata": {
    "deletable": false,
    "editable": false
   },
   "source": [
    "**Question 5.** Assign `largest` to a two-column table with the `name` (not the 3-letter code) and `poverty_total` of the 10 countries with the largest number of people living in extreme poverty.\n",
    "\n",
    "<!--\n",
    "BEGIN QUESTION\n",
    "name: q2_5\n",
    "-->"
   ]
  },
  {
   "cell_type": "code",
   "execution_count": 129,
   "metadata": {
    "deletable": false
   },
   "outputs": [
    {
     "data": {
      "text/html": [
       "<table border=\"1\" class=\"dataframe\">\n",
       "    <thead>\n",
       "        <tr>\n",
       "            <th>name</th> <th>poverty_total</th>\n",
       "        </tr>\n",
       "    </thead>\n",
       "    <tbody>\n",
       "        <tr>\n",
       "            <td>India           </td> <td>291,660,639.00</td>\n",
       "        </tr>\n",
       "        <tr>\n",
       "            <td>Nigeria         </td> <td>98,319,537.00 </td>\n",
       "        </tr>\n",
       "        <tr>\n",
       "            <td>China           </td> <td>85,687,544.00 </td>\n",
       "        </tr>\n",
       "        <tr>\n",
       "            <td>Bangladesh      </td> <td>63,826,375.00 </td>\n",
       "        </tr>\n",
       "        <tr>\n",
       "            <td>Congo, Dem. Rep.</td> <td>56,635,412.00 </td>\n",
       "        </tr>\n",
       "        <tr>\n",
       "            <td>Indonesia       </td> <td>39,177,145.00 </td>\n",
       "        </tr>\n",
       "        <tr>\n",
       "            <td>Ethiopia        </td> <td>32,242,742.00 </td>\n",
       "        </tr>\n",
       "        <tr>\n",
       "            <td>Pakistan        </td> <td>22,858,700.00 </td>\n",
       "        </tr>\n",
       "        <tr>\n",
       "            <td>Tanzania        </td> <td>19,281,872.00 </td>\n",
       "        </tr>\n",
       "        <tr>\n",
       "            <td>Madagascar      </td> <td>18,543,643.00 </td>\n",
       "        </tr>\n",
       "    </tbody>\n",
       "</table>"
      ],
      "text/plain": [
       "name             | poverty_total\n",
       "India            | 291,660,639.00\n",
       "Nigeria          | 98,319,537.00\n",
       "China            | 85,687,544.00\n",
       "Bangladesh       | 63,826,375.00\n",
       "Congo, Dem. Rep. | 56,635,412.00\n",
       "Indonesia        | 39,177,145.00\n",
       "Ethiopia         | 32,242,742.00\n",
       "Pakistan         | 22,858,700.00\n",
       "Tanzania         | 19,281,872.00\n",
       "Madagascar       | 18,543,643.00"
      ]
     },
     "execution_count": 129,
     "metadata": {},
     "output_type": "execute_result"
    }
   ],
   "source": [
    "top_10_countries = recent_country_poverty.sort('poverty_total', descending = True).take(np.arange(0,10))\n",
    "\n",
    "\n",
    "largest = Table().with_columns('name', top_10_countries.column('name'),\n",
    "                              'poverty_total', top_10_countries.column('poverty_total'))\n",
    "largest.set_format('poverty_total', NumberFormatter)"
   ]
  },
  {
   "cell_type": "code",
   "execution_count": 130,
   "metadata": {
    "deletable": false,
    "editable": false
   },
   "outputs": [
    {
     "name": "stdout",
     "output_type": "stream",
     "text": [
      "~~~~~~~~~~~~~~~~~~~~~~~~~~~~~~~~~~~~~~~~~~~~~~~~~~~~~~~~~~~~~~~~~~~~~\n",
      "Running tests\n",
      "\n",
      "---------------------------------------------------------------------\n",
      "Test summary\n",
      "    Passed: 3\n",
      "    Failed: 0\n",
      "[ooooooooook] 100.0% passed\n",
      "\n"
     ]
    }
   ],
   "source": [
    "ok.grade(\"q2_5\");"
   ]
  },
  {
   "cell_type": "markdown",
   "metadata": {
    "deletable": false
   },
   "source": [
    "**Question 6.** Write a function called `poverty_timeline` that takes **the name of a country** as its argument. It should draw a line plot of the number of people living in poverty in that country with time on the horizontal axis. The line plot should have a point for each row in the `poverty` table for that country. To compute the population living in poverty from a poverty percentage, multiply by the population of the country **in that year**.\n",
    "\n",
    "*Hint:* This question is long. Feel free to create cells and experiment. "
   ]
  },
  {
   "cell_type": "code",
   "execution_count": 131,
   "metadata": {},
   "outputs": [],
   "source": [
    "def poverty_timeline(country):\n",
    "    '''Draw a timeline of people living in extreme poverty in a country.'''\n",
    "    geo = recent_country_poverty.where('name', are.equal_to(country)).column('geo')\n",
    "    pov = poverty.where('geo', are.equal_to(geo))\n",
    "    pop = population.where('geo', are.equal_to(geo))\n",
    "    x = pop.join('time', pov, 'time')\n",
    "    \n",
    "    country_poverty = x.column('population_total') * x.column(4) / 100\n",
    "    poverty_timeline = poverty.where('geo', are.equal_to(geo)).with_column('population', country_poverty)\n",
    "    return poverty_timeline.plot('time', 'population')\n"
   ]
  },
  {
   "cell_type": "code",
   "execution_count": null,
   "metadata": {},
   "outputs": [],
   "source": []
  },
  {
   "cell_type": "code",
   "execution_count": null,
   "metadata": {},
   "outputs": [],
   "source": [
    "countries"
   ]
  },
  {
   "cell_type": "markdown",
   "metadata": {
    "deletable": false,
    "editable": false
   },
   "source": [
    "Finally, draw the timelines below to see how the world is changing. You can check your work by comparing your graphs to the ones on [gapminder.org](https://www.gapminder.org/tools/#$state$entities$show$country$/$in@=ind;;;;&marker$axis_y$which=number_of_people_in_poverty&scaleType=linear&spaceRef:null;;;&chart-type=linechart).\n",
    "\n",
    "<!--\n",
    "BEGIN QUESTION\n",
    "name: q2_6\n",
    "manual: true\n",
    "-->\n",
    "<!-- EXPORT TO PDF -->"
   ]
  },
  {
   "cell_type": "code",
   "execution_count": 35,
   "metadata": {
    "scrolled": true
   },
   "outputs": [
    {
     "data": {
      "text/html": [
       "<table border=\"1\" class=\"dataframe\">\n",
       "    <thead>\n",
       "        <tr>\n",
       "            <th>geo</th> <th>time</th> <th>extreme_poverty_percent_people_below_125_a_day</th>\n",
       "        </tr>\n",
       "    </thead>\n",
       "    <tbody>\n",
       "        <tr>\n",
       "            <td>ago </td> <td>2000</td> <td>54.31                                         </td>\n",
       "        </tr>\n",
       "        <tr>\n",
       "            <td>ago </td> <td>2009</td> <td>43.37                                         </td>\n",
       "        </tr>\n",
       "        <tr>\n",
       "            <td>alb </td> <td>1996</td> <td>0.2                                           </td>\n",
       "        </tr>\n",
       "        <tr>\n",
       "            <td>alb </td> <td>2002</td> <td>0.73                                          </td>\n",
       "        </tr>\n",
       "        <tr>\n",
       "            <td>alb </td> <td>2004</td> <td>0.53                                          </td>\n",
       "        </tr>\n",
       "        <tr>\n",
       "            <td>alb </td> <td>2005</td> <td>0.44                                          </td>\n",
       "        </tr>\n",
       "        <tr>\n",
       "            <td>alb </td> <td>2008</td> <td>0.2                                           </td>\n",
       "        </tr>\n",
       "        <tr>\n",
       "            <td>alb </td> <td>2012</td> <td>0.46                                          </td>\n",
       "        </tr>\n",
       "        <tr>\n",
       "            <td>arg </td> <td>1986</td> <td>0                                             </td>\n",
       "        </tr>\n",
       "        <tr>\n",
       "            <td>arg </td> <td>1987</td> <td>0                                             </td>\n",
       "        </tr>\n",
       "    </tbody>\n",
       "</table>\n",
       "<p>... (1089 rows omitted)</p>"
      ],
      "text/plain": [
       "geo  | time | extreme_poverty_percent_people_below_125_a_day\n",
       "ago  | 2000 | 54.31\n",
       "ago  | 2009 | 43.37\n",
       "alb  | 1996 | 0.2\n",
       "alb  | 2002 | 0.73\n",
       "alb  | 2004 | 0.53\n",
       "alb  | 2005 | 0.44\n",
       "alb  | 2008 | 0.2\n",
       "alb  | 2012 | 0.46\n",
       "arg  | 1986 | 0\n",
       "arg  | 1987 | 0\n",
       "... (1089 rows omitted)"
      ]
     },
     "execution_count": 35,
     "metadata": {},
     "output_type": "execute_result"
    }
   ],
   "source": [
    "poverty = poverty.sort('geo')\n",
    "poverty"
   ]
  },
  {
   "cell_type": "code",
   "execution_count": 132,
   "metadata": {
    "export_pdf": true
   },
   "outputs": [
    {
     "name": "stderr",
     "output_type": "stream",
     "text": [
      "/opt/conda/lib/python3.8/site-packages/datascience/predicates.py:257: SyntaxWarning: Do not pass an array or list to a predicate.                 If you are trying to find rows where two columns are the                 same, use table.where('c', are.equal_to, table.column('d'))                instead of table.where('c', are.equal_to(table.column('d'))).\n",
      "  warnings.warn(\"Do not pass an array or list to a predicate. \\\n",
      "/opt/conda/lib/python3.8/site-packages/datascience/predicates.py:257: SyntaxWarning: Do not pass an array or list to a predicate.                 If you are trying to find rows where two columns are the                 same, use table.where('c', are.equal_to, table.column('d'))                instead of table.where('c', are.equal_to(table.column('d'))).\n",
      "  warnings.warn(\"Do not pass an array or list to a predicate. \\\n",
      "/opt/conda/lib/python3.8/site-packages/datascience/predicates.py:257: SyntaxWarning: Do not pass an array or list to a predicate.                 If you are trying to find rows where two columns are the                 same, use table.where('c', are.equal_to, table.column('d'))                instead of table.where('c', are.equal_to(table.column('d'))).\n",
      "  warnings.warn(\"Do not pass an array or list to a predicate. \\\n",
      "/opt/conda/lib/python3.8/site-packages/datascience/predicates.py:257: SyntaxWarning: Do not pass an array or list to a predicate.                 If you are trying to find rows where two columns are the                 same, use table.where('c', are.equal_to, table.column('d'))                instead of table.where('c', are.equal_to(table.column('d'))).\n",
      "  warnings.warn(\"Do not pass an array or list to a predicate. \\\n",
      "/opt/conda/lib/python3.8/site-packages/datascience/predicates.py:257: SyntaxWarning: Do not pass an array or list to a predicate.                 If you are trying to find rows where two columns are the                 same, use table.where('c', are.equal_to, table.column('d'))                instead of table.where('c', are.equal_to(table.column('d'))).\n",
      "  warnings.warn(\"Do not pass an array or list to a predicate. \\\n",
      "/opt/conda/lib/python3.8/site-packages/datascience/predicates.py:257: SyntaxWarning: Do not pass an array or list to a predicate.                 If you are trying to find rows where two columns are the                 same, use table.where('c', are.equal_to, table.column('d'))                instead of table.where('c', are.equal_to(table.column('d'))).\n",
      "  warnings.warn(\"Do not pass an array or list to a predicate. \\\n",
      "/opt/conda/lib/python3.8/site-packages/datascience/predicates.py:257: SyntaxWarning: Do not pass an array or list to a predicate.                 If you are trying to find rows where two columns are the                 same, use table.where('c', are.equal_to, table.column('d'))                instead of table.where('c', are.equal_to(table.column('d'))).\n",
      "  warnings.warn(\"Do not pass an array or list to a predicate. \\\n",
      "/opt/conda/lib/python3.8/site-packages/datascience/predicates.py:257: SyntaxWarning: Do not pass an array or list to a predicate.                 If you are trying to find rows where two columns are the                 same, use table.where('c', are.equal_to, table.column('d'))                instead of table.where('c', are.equal_to(table.column('d'))).\n",
      "  warnings.warn(\"Do not pass an array or list to a predicate. \\\n",
      "/opt/conda/lib/python3.8/site-packages/datascience/predicates.py:257: SyntaxWarning: Do not pass an array or list to a predicate.                 If you are trying to find rows where two columns are the                 same, use table.where('c', are.equal_to, table.column('d'))                instead of table.where('c', are.equal_to(table.column('d'))).\n",
      "  warnings.warn(\"Do not pass an array or list to a predicate. \\\n",
      "/opt/conda/lib/python3.8/site-packages/datascience/predicates.py:257: SyntaxWarning: Do not pass an array or list to a predicate.                 If you are trying to find rows where two columns are the                 same, use table.where('c', are.equal_to, table.column('d'))                instead of table.where('c', are.equal_to(table.column('d'))).\n",
      "  warnings.warn(\"Do not pass an array or list to a predicate. \\\n",
      "/opt/conda/lib/python3.8/site-packages/datascience/predicates.py:257: SyntaxWarning: Do not pass an array or list to a predicate.                 If you are trying to find rows where two columns are the                 same, use table.where('c', are.equal_to, table.column('d'))                instead of table.where('c', are.equal_to(table.column('d'))).\n",
      "  warnings.warn(\"Do not pass an array or list to a predicate. \\\n",
      "/opt/conda/lib/python3.8/site-packages/datascience/predicates.py:257: SyntaxWarning: Do not pass an array or list to a predicate.                 If you are trying to find rows where two columns are the                 same, use table.where('c', are.equal_to, table.column('d'))                instead of table.where('c', are.equal_to(table.column('d'))).\n",
      "  warnings.warn(\"Do not pass an array or list to a predicate. \\\n"
     ]
    },
    {
     "data": {
      "image/png": "[encoded data removed]",
      "text/plain": [
       "<Figure size 432x288 with 1 Axes>"
      ]
     },
     "metadata": {},
     "output_type": "display_data"
    },
    {
     "data": {
      "image/png": "[encoded data removed]",
      "text/plain": [
       "<Figure size 432x288 with 1 Axes>"
      ]
     },
     "metadata": {},
     "output_type": "display_data"
    },
    {
     "data": {
      "image/png": "[encoded data removed]",
      "text/plain": [
       "<Figure size 432x288 with 1 Axes>"
      ]
     },
     "metadata": {},
     "output_type": "display_data"
    },
    {
     "data": {
      "image/png": "[encoded data removed]",
      "text/plain": [
       "<Figure size 432x288 with 1 Axes>"
      ]
     },
     "metadata": {},
     "output_type": "display_data"
    }
   ],
   "source": [
    "poverty_timeline('India')\n",
    "poverty_timeline('Nigeria')\n",
    "poverty_timeline('China')\n",
    "poverty_timeline('United States')"
   ]
  },
  {
   "cell_type": "markdown",
   "metadata": {
    "deletable": false,
    "editable": false
   },
   "source": [
    "Although the number of people living in extreme poverty has been increasing in Nigeria and the United States, the massive decreases in China and India have shaped the overall trend that extreme poverty is decreasing worldwide, both in percentage and in absolute number. \n",
    "\n",
    "To learn more, watch [Hans Rosling in a 2015 film](https://www.gapminder.org/videos/dont-panic-end-poverty/) about the UN goal of eradicating extreme poverty from the world. \n",
    "\n",
    "Below, we've also added an interactive dropdown menu for you to visualize `poverty_timeline` graphs for other countries. Note that each dropdown menu selection may take a few seconds to run."
   ]
  },
  {
   "cell_type": "code",
   "execution_count": 133,
   "metadata": {
    "deletable": false,
    "editable": false
   },
   "outputs": [
    {
     "data": {
      "application/vnd.jupyter.widget-view+json": {
       "model_id": "a7372001e5c44d6cb5857cdb6929ed9e",
       "version_major": 2,
       "version_minor": 0
      },
      "text/plain": [
       "interactive(children=(Dropdown(description='country', options=('Angola', 'Albania', 'Argentina', 'Armenia', 'A…"
      ]
     },
     "metadata": {},
     "output_type": "display_data"
    }
   ],
   "source": [
    "# Just run this cell\n",
    "\n",
    "all_countries = poverty_map.column('name')\n",
    "_ = widgets.interact(poverty_timeline, country=list(all_countries))"
   ]
  },
  {
   "cell_type": "markdown",
   "metadata": {
    "deletable": false,
    "editable": false
   },
   "source": [
    "**You're finished!** Congratulations on mastering data visualization and table manipulation. Time to submit."
   ]
  },
  {
   "cell_type": "markdown",
   "metadata": {},
   "source": [
    "## 3. Submission\n"
   ]
  },
  {
   "cell_type": "markdown",
   "metadata": {
    "collapsed": true
   },
   "source": [
    "Once you're finished, select \"Save and Checkpoint\" in the File menu and then execute the `submit` cell below. The result will contain a link that you can use to check that your assignment has been submitted successfully. If you submit more than once before the deadline, we will only grade your final submission. If you mistakenly submit the wrong one, you can head to [okpy.org](https://okpy.org/) and flag the correct version. To do so, go to the website, click on this assignment, and find the version you would like to have graded. There should be an option to flag that submission for grading!"
   ]
  },
  {
   "cell_type": "code",
   "execution_count": null,
   "metadata": {},
   "outputs": [
    {
     "data": {
      "application/javascript": [
       "IPython.notebook.save_checkpoint();"
      ],
      "text/plain": [
       "<IPython.core.display.Javascript object>"
      ]
     },
     "metadata": {},
     "output_type": "display_data"
    },
    {
     "data": {
      "application/javascript": [
       "IPython.notebook.save_notebook();"
      ],
      "text/plain": [
       "<IPython.core.display.Javascript object>"
      ]
     },
     "metadata": {},
     "output_type": "display_data"
    },
    {
     "name": "stdout",
     "output_type": "stream",
     "text": [
      "Saving notebook... "
     ]
    }
   ],
   "source": [
    "_ = ok.submit()"
   ]
  },
  {
   "cell_type": "code",
   "execution_count": 135,
   "metadata": {},
   "outputs": [
    {
     "name": "stdout",
     "output_type": "stream",
     "text": [
      "Running all tests...\n",
      "~~~~~~~~~~~~~~~~~~~~~~~~~~~~~~~~~~~~~~~~~~~~~~~~~~~~~~~~~~~~~~~~~~~~~\n",
      "Running tests\n",
      "\n",
      "---------------------------------------------------------------------\n",
      "Test summary\n",
      "    Passed: 2\n",
      "    Failed: 0\n",
      "[ooooooooook] 100.0% passed\n",
      "\n",
      "~~~~~~~~~~~~~~~~~~~~~~~~~~~~~~~~~~~~~~~~~~~~~~~~~~~~~~~~~~~~~~~~~~~~~\n",
      "Running tests\n",
      "\n",
      "---------------------------------------------------------------------\n",
      "Test summary\n",
      "    Passed: 4\n",
      "    Failed: 0\n",
      "[ooooooooook] 100.0% passed\n",
      "\n",
      "~~~~~~~~~~~~~~~~~~~~~~~~~~~~~~~~~~~~~~~~~~~~~~~~~~~~~~~~~~~~~~~~~~~~~\n",
      "Running tests\n",
      "\n",
      "---------------------------------------------------------------------\n",
      "Test summary\n",
      "    Passed: 2\n",
      "    Failed: 0\n",
      "[ooooooooook] 100.0% passed\n",
      "\n",
      "~~~~~~~~~~~~~~~~~~~~~~~~~~~~~~~~~~~~~~~~~~~~~~~~~~~~~~~~~~~~~~~~~~~~~\n",
      "Running tests\n",
      "\n",
      "---------------------------------------------------------------------\n",
      "Test summary\n",
      "    Passed: 4\n",
      "    Failed: 0\n",
      "[ooooooooook] 100.0% passed\n",
      "\n",
      "~~~~~~~~~~~~~~~~~~~~~~~~~~~~~~~~~~~~~~~~~~~~~~~~~~~~~~~~~~~~~~~~~~~~~\n",
      "Running tests\n",
      "\n",
      "---------------------------------------------------------------------\n",
      "Test summary\n",
      "    Passed: 2\n",
      "    Failed: 0\n",
      "[ooooooooook] 100.0% passed\n",
      "\n",
      "~~~~~~~~~~~~~~~~~~~~~~~~~~~~~~~~~~~~~~~~~~~~~~~~~~~~~~~~~~~~~~~~~~~~~\n",
      "Running tests\n",
      "\n",
      "---------------------------------------------------------------------\n",
      "Test summary\n",
      "    Passed: 1\n",
      "    Failed: 0\n",
      "[ooooooooook] 100.0% passed\n",
      "\n",
      "~~~~~~~~~~~~~~~~~~~~~~~~~~~~~~~~~~~~~~~~~~~~~~~~~~~~~~~~~~~~~~~~~~~~~\n",
      "Running tests\n",
      "\n",
      "---------------------------------------------------------------------\n",
      "Test summary\n",
      "    Passed: 2\n",
      "    Failed: 0\n",
      "[ooooooooook] 100.0% passed\n",
      "\n",
      "~~~~~~~~~~~~~~~~~~~~~~~~~~~~~~~~~~~~~~~~~~~~~~~~~~~~~~~~~~~~~~~~~~~~~\n",
      "Running tests\n",
      "\n",
      "---------------------------------------------------------------------\n",
      "Test summary\n",
      "    Passed: 3\n",
      "    Failed: 0\n",
      "[ooooooooook] 100.0% passed\n",
      "\n",
      "~~~~~~~~~~~~~~~~~~~~~~~~~~~~~~~~~~~~~~~~~~~~~~~~~~~~~~~~~~~~~~~~~~~~~\n",
      "Running tests\n",
      "\n",
      "---------------------------------------------------------------------\n",
      "Test summary\n",
      "    Passed: 2\n",
      "    Failed: 0\n",
      "[ooooooooook] 100.0% passed\n",
      "\n",
      "~~~~~~~~~~~~~~~~~~~~~~~~~~~~~~~~~~~~~~~~~~~~~~~~~~~~~~~~~~~~~~~~~~~~~\n",
      "Running tests\n",
      "\n",
      "---------------------------------------------------------------------\n",
      "Test summary\n",
      "    Passed: 1\n",
      "    Failed: 0\n",
      "[ooooooooook] 100.0% passed\n",
      "\n",
      "~~~~~~~~~~~~~~~~~~~~~~~~~~~~~~~~~~~~~~~~~~~~~~~~~~~~~~~~~~~~~~~~~~~~~\n",
      "Running tests\n",
      "\n",
      "---------------------------------------------------------------------\n",
      "Test summary\n",
      "    Passed: 2\n",
      "    Failed: 0\n",
      "[ooooooooook] 100.0% passed\n",
      "\n",
      "~~~~~~~~~~~~~~~~~~~~~~~~~~~~~~~~~~~~~~~~~~~~~~~~~~~~~~~~~~~~~~~~~~~~~\n",
      "Running tests\n",
      "\n",
      "---------------------------------------------------------------------\n",
      "Test summary\n",
      "    Passed: 3\n",
      "    Failed: 0\n",
      "[ooooooooook] 100.0% passed\n",
      "\n",
      "~~~~~~~~~~~~~~~~~~~~~~~~~~~~~~~~~~~~~~~~~~~~~~~~~~~~~~~~~~~~~~~~~~~~~\n",
      "Running tests\n",
      "\n",
      "---------------------------------------------------------------------\n",
      "Test summary\n",
      "    Passed: 1\n",
      "    Failed: 0\n",
      "[ooooooooook] 100.0% passed\n",
      "\n",
      "~~~~~~~~~~~~~~~~~~~~~~~~~~~~~~~~~~~~~~~~~~~~~~~~~~~~~~~~~~~~~~~~~~~~~\n",
      "Running tests\n",
      "\n",
      "---------------------------------------------------------------------\n",
      "Test summary\n",
      "    Passed: 2\n",
      "    Failed: 0\n",
      "[ooooooooook] 100.0% passed\n",
      "\n",
      "~~~~~~~~~~~~~~~~~~~~~~~~~~~~~~~~~~~~~~~~~~~~~~~~~~~~~~~~~~~~~~~~~~~~~\n",
      "Running tests\n",
      "\n",
      "---------------------------------------------------------------------\n",
      "Test summary\n",
      "    Passed: 3\n",
      "    Failed: 0\n",
      "[ooooooooook] 100.0% passed\n",
      "\n",
      "Finished running all tests.\n"
     ]
    }
   ],
   "source": [
    "# For your convenience, you can run this cell to run all the tests at once!\n",
    "import os\n",
    "print(\"Running all tests...\")\n",
    "_ = [ok.grade(q[:-3]) for q in os.listdir(\"tests\") if q.startswith('q') and len(q) <= 10]\n",
    "print(\"Finished running all tests.\")"
   ]
  },
  {
   "cell_type": "code",
   "execution_count": null,
   "metadata": {},
   "outputs": [],
   "source": []
  }
 ],
 "metadata": {
  "kernelspec": {
   "display_name": "Python 3",
   "language": "python",
   "name": "python3"
  },
  "language_info": {
   "codemirror_mode": {
    "name": "ipython",
    "version": 3
   },
   "file_extension": ".py",
   "mimetype": "text/x-python",
   "name": "python",
   "nbconvert_exporter": "python",
   "pygments_lexer": "ipython3",
   "version": "3.8.5"
  },
  "widgets": {
   "application/vnd.jupyter.widget-state+json": {
    "state": {
     "0114ad3078db4a479337bcd8224e55d9": {
      "model_module": "@jupyter-widgets/output",
      "model_module_version": "1.0.0",
      "model_name": "OutputModel",
      "state": {
       "_dom_classes": [],
       "_model_module": "@jupyter-widgets/output",
       "_model_module_version": "1.0.0",
       "_model_name": "OutputModel",
       "_view_count": null,
       "_view_module": "@jupyter-widgets/output",
       "_view_module_version": "1.0.0",
       "_view_name": "OutputView",
       "layout": "IPY_MODEL_276443f35cda42e09201faaf8fac6497",
       "msg_id": "",
       "outputs": []
      }
     },
     "1fc6398f14e044cc8a1ce8551989183b": {
      "model_module": "@jupyter-widgets/controls",
      "model_module_version": "1.5.0",
      "model_name": "DescriptionStyleModel",
      "state": {
       "_model_module": "@jupyter-widgets/controls",
       "_model_module_version": "1.5.0",
       "_model_name": "DescriptionStyleModel",
       "_view_count": null,
       "_view_module": "@jupyter-widgets/base",
       "_view_module_version": "1.2.0",
       "_view_name": "StyleView",
       "description_width": ""
      }
     },
     "276443f35cda42e09201faaf8fac6497": {
      "model_module": "@jupyter-widgets/base",
      "model_module_version": "1.2.0",
      "model_name": "LayoutModel",
      "state": {
       "_model_module": "@jupyter-widgets/base",
       "_model_module_version": "1.2.0",
       "_model_name": "LayoutModel",
       "_view_count": null,
       "_view_module": "@jupyter-widgets/base",
       "_view_module_version": "1.2.0",
       "_view_name": "LayoutView",
       "align_content": null,
       "align_items": null,
       "align_self": null,
       "border": null,
       "bottom": null,
       "display": null,
       "flex": null,
       "flex_flow": null,
       "grid_area": null,
       "grid_auto_columns": null,
       "grid_auto_flow": null,
       "grid_auto_rows": null,
       "grid_column": null,
       "grid_gap": null,
       "grid_row": null,
       "grid_template_areas": null,
       "grid_template_columns": null,
       "grid_template_rows": null,
       "height": null,
       "justify_content": null,
       "justify_items": null,
       "left": null,
       "margin": null,
       "max_height": null,
       "max_width": null,
       "min_height": null,
       "min_width": null,
       "object_fit": null,
       "object_position": null,
       "order": null,
       "overflow": null,
       "overflow_x": null,
       "overflow_y": null,
       "padding": null,
       "right": null,
       "top": null,
       "visibility": null,
       "width": null
      }
     },
     "39a97358d3644570ac526587d88af5e2": {
      "model_module": "@jupyter-widgets/base",
      "model_module_version": "1.2.0",
      "model_name": "LayoutModel",
      "state": {
       "_model_module": "@jupyter-widgets/base",
       "_model_module_version": "1.2.0",
       "_model_name": "LayoutModel",
       "_view_count": null,
       "_view_module": "@jupyter-widgets/base",
       "_view_module_version": "1.2.0",
       "_view_name": "LayoutView",
       "align_content": null,
       "align_items": null,
       "align_self": null,
       "border": null,
       "bottom": null,
       "display": null,
       "flex": null,
       "flex_flow": null,
       "grid_area": null,
       "grid_auto_columns": null,
       "grid_auto_flow": null,
       "grid_auto_rows": null,
       "grid_column": null,
       "grid_gap": null,
       "grid_row": null,
       "grid_template_areas": null,
       "grid_template_columns": null,
       "grid_template_rows": null,
       "height": null,
       "justify_content": null,
       "justify_items": null,
       "left": null,
       "margin": null,
       "max_height": null,
       "max_width": null,
       "min_height": null,
       "min_width": null,
       "object_fit": null,
       "object_position": null,
       "order": null,
       "overflow": null,
       "overflow_x": null,
       "overflow_y": null,
       "padding": null,
       "right": null,
       "top": null,
       "visibility": null,
       "width": null
      }
     },
     "3dfe7b5d2ce74e899172561709d82350": {
      "model_module": "@jupyter-widgets/controls",
      "model_module_version": "1.5.0",
      "model_name": "VBoxModel",
      "state": {
       "_dom_classes": [
        "widget-interact"
       ],
       "_model_module": "@jupyter-widgets/controls",
       "_model_module_version": "1.5.0",
       "_model_name": "VBoxModel",
       "_view_count": null,
       "_view_module": "@jupyter-widgets/controls",
       "_view_module_version": "1.5.0",
       "_view_name": "VBoxView",
       "box_style": "",
       "children": [
        "IPY_MODEL_3fb826043d5742f9a82dafdfe3e9118a",
        "IPY_MODEL_0114ad3078db4a479337bcd8224e55d9"
       ],
       "layout": "IPY_MODEL_412ca64f26df4d008cd7fb497105e0c9"
      }
     },
     "3fb826043d5742f9a82dafdfe3e9118a": {
      "model_module": "@jupyter-widgets/controls",
      "model_module_version": "1.5.0",
      "model_name": "IntSliderModel",
      "state": {
       "_dom_classes": [],
       "_model_module": "@jupyter-widgets/controls",
       "_model_module_version": "1.5.0",
       "_model_name": "IntSliderModel",
       "_view_count": null,
       "_view_module": "@jupyter-widgets/controls",
       "_view_module_version": "1.5.0",
       "_view_name": "IntSliderView",
       "continuous_update": true,
       "description": "year",
       "description_tooltip": null,
       "disabled": false,
       "layout": "IPY_MODEL_39a97358d3644570ac526587d88af5e2",
       "max": 2015,
       "min": 1960,
       "orientation": "horizontal",
       "readout": true,
       "readout_format": "d",
       "step": 1,
       "style": "IPY_MODEL_61002bda6285462685d2226a7acce16e",
       "value": 1960
      }
     },
     "412ca64f26df4d008cd7fb497105e0c9": {
      "model_module": "@jupyter-widgets/base",
      "model_module_version": "1.2.0",
      "model_name": "LayoutModel",
      "state": {
       "_model_module": "@jupyter-widgets/base",
       "_model_module_version": "1.2.0",
       "_model_name": "LayoutModel",
       "_view_count": null,
       "_view_module": "@jupyter-widgets/base",
       "_view_module_version": "1.2.0",
       "_view_name": "LayoutView",
       "align_content": null,
       "align_items": null,
       "align_self": null,
       "border": null,
       "bottom": null,
       "display": null,
       "flex": null,
       "flex_flow": null,
       "grid_area": null,
       "grid_auto_columns": null,
       "grid_auto_flow": null,
       "grid_auto_rows": null,
       "grid_column": null,
       "grid_gap": null,
       "grid_row": null,
       "grid_template_areas": null,
       "grid_template_columns": null,
       "grid_template_rows": null,
       "height": null,
       "justify_content": null,
       "justify_items": null,
       "left": null,
       "margin": null,
       "max_height": null,
       "max_width": null,
       "min_height": null,
       "min_width": null,
       "object_fit": null,
       "object_position": null,
       "order": null,
       "overflow": null,
       "overflow_x": null,
       "overflow_y": null,
       "padding": null,
       "right": null,
       "top": null,
       "visibility": null,
       "width": null
      }
     },
     "5db3af59349b40ac8412ede7fb796fa8": {
      "model_module": "@jupyter-widgets/base",
      "model_module_version": "1.2.0",
      "model_name": "LayoutModel",
      "state": {
       "_model_module": "@jupyter-widgets/base",
       "_model_module_version": "1.2.0",
       "_model_name": "LayoutModel",
       "_view_count": null,
       "_view_module": "@jupyter-widgets/base",
       "_view_module_version": "1.2.0",
       "_view_name": "LayoutView",
       "align_content": null,
       "align_items": null,
       "align_self": null,
       "border": null,
       "bottom": null,
       "display": null,
       "flex": null,
       "flex_flow": null,
       "grid_area": null,
       "grid_auto_columns": null,
       "grid_auto_flow": null,
       "grid_auto_rows": null,
       "grid_column": null,
       "grid_gap": null,
       "grid_row": null,
       "grid_template_areas": null,
       "grid_template_columns": null,
       "grid_template_rows": null,
       "height": null,
       "justify_content": null,
       "justify_items": null,
       "left": null,
       "margin": null,
       "max_height": null,
       "max_width": null,
       "min_height": null,
       "min_width": null,
       "object_fit": null,
       "object_position": null,
       "order": null,
       "overflow": null,
       "overflow_x": null,
       "overflow_y": null,
       "padding": null,
       "right": null,
       "top": null,
       "visibility": null,
       "width": null
      }
     },
     "61002bda6285462685d2226a7acce16e": {
      "model_module": "@jupyter-widgets/controls",
      "model_module_version": "1.5.0",
      "model_name": "SliderStyleModel",
      "state": {
       "_model_module": "@jupyter-widgets/controls",
       "_model_module_version": "1.5.0",
       "_model_name": "SliderStyleModel",
       "_view_count": null,
       "_view_module": "@jupyter-widgets/base",
       "_view_module_version": "1.2.0",
       "_view_name": "StyleView",
       "description_width": "",
       "handle_color": null
      }
     },
     "68fb317c917a438c9bc95cd1c03b30da": {
      "model_module": "@jupyter-widgets/controls",
      "model_module_version": "1.5.0",
      "model_name": "VBoxModel",
      "state": {
       "_dom_classes": [
        "widget-interact"
       ],
       "_model_module": "@jupyter-widgets/controls",
       "_model_module_version": "1.5.0",
       "_model_name": "VBoxModel",
       "_view_count": null,
       "_view_module": "@jupyter-widgets/controls",
       "_view_module_version": "1.5.0",
       "_view_name": "VBoxView",
       "box_style": "",
       "children": [
        "IPY_MODEL_f139d990792a4256b383c9ba66ae8b71",
        "IPY_MODEL_c6ee9d742cb04fc4ac83408666ef5517"
       ],
       "layout": "IPY_MODEL_740df27b4b044ed5a30c7f4fbbec3400"
      }
     },
     "740df27b4b044ed5a30c7f4fbbec3400": {
      "model_module": "@jupyter-widgets/base",
      "model_module_version": "1.2.0",
      "model_name": "LayoutModel",
      "state": {
       "_model_module": "@jupyter-widgets/base",
       "_model_module_version": "1.2.0",
       "_model_name": "LayoutModel",
       "_view_count": null,
       "_view_module": "@jupyter-widgets/base",
       "_view_module_version": "1.2.0",
       "_view_name": "LayoutView",
       "align_content": null,
       "align_items": null,
       "align_self": null,
       "border": null,
       "bottom": null,
       "display": null,
       "flex": null,
       "flex_flow": null,
       "grid_area": null,
       "grid_auto_columns": null,
       "grid_auto_flow": null,
       "grid_auto_rows": null,
       "grid_column": null,
       "grid_gap": null,
       "grid_row": null,
       "grid_template_areas": null,
       "grid_template_columns": null,
       "grid_template_rows": null,
       "height": null,
       "justify_content": null,
       "justify_items": null,
       "left": null,
       "margin": null,
       "max_height": null,
       "max_width": null,
       "min_height": null,
       "min_width": null,
       "object_fit": null,
       "object_position": null,
       "order": null,
       "overflow": null,
       "overflow_x": null,
       "overflow_y": null,
       "padding": null,
       "right": null,
       "top": null,
       "visibility": null,
       "width": null
      }
     },
     "9439aab3cc9a47389ee68326026751d0": {
      "model_module": "@jupyter-widgets/base",
      "model_module_version": "1.2.0",
      "model_name": "LayoutModel",
      "state": {
       "_model_module": "@jupyter-widgets/base",
       "_model_module_version": "1.2.0",
       "_model_name": "LayoutModel",
       "_view_count": null,
       "_view_module": "@jupyter-widgets/base",
       "_view_module_version": "1.2.0",
       "_view_name": "LayoutView",
       "align_content": null,
       "align_items": null,
       "align_self": null,
       "border": null,
       "bottom": null,
       "display": null,
       "flex": null,
       "flex_flow": null,
       "grid_area": null,
       "grid_auto_columns": null,
       "grid_auto_flow": null,
       "grid_auto_rows": null,
       "grid_column": null,
       "grid_gap": null,
       "grid_row": null,
       "grid_template_areas": null,
       "grid_template_columns": null,
       "grid_template_rows": null,
       "height": null,
       "justify_content": null,
       "justify_items": null,
       "left": null,
       "margin": null,
       "max_height": null,
       "max_width": null,
       "min_height": null,
       "min_width": null,
       "object_fit": null,
       "object_position": null,
       "order": null,
       "overflow": null,
       "overflow_x": null,
       "overflow_y": null,
       "padding": null,
       "right": null,
       "top": null,
       "visibility": null,
       "width": null
      }
     },
     "c6ee9d742cb04fc4ac83408666ef5517": {
      "model_module": "@jupyter-widgets/output",
      "model_module_version": "1.0.0",
      "model_name": "OutputModel",
      "state": {
       "_dom_classes": [],
       "_model_module": "@jupyter-widgets/output",
       "_model_module_version": "1.0.0",
       "_model_name": "OutputModel",
       "_view_count": null,
       "_view_module": "@jupyter-widgets/output",
       "_view_module_version": "1.0.0",
       "_view_name": "OutputView",
       "layout": "IPY_MODEL_9439aab3cc9a47389ee68326026751d0",
       "msg_id": "",
       "outputs": []
      }
     },
     "f139d990792a4256b383c9ba66ae8b71": {
      "model_module": "@jupyter-widgets/controls",
      "model_module_version": "1.5.0",
      "model_name": "DropdownModel",
      "state": {
       "_dom_classes": [],
       "_model_module": "@jupyter-widgets/controls",
       "_model_module_version": "1.5.0",
       "_model_name": "DropdownModel",
       "_options_labels": [
        "Angola",
        "Albania",
        "Argentina",
        "Armenia",
        "Australia",
        "Austria",
        "Azerbaijan",
        "Burundi",
        "Belgium",
        "Benin",
        "Burkina Faso",
        "Bangladesh",
        "Bulgaria",
        "Bosnia and Herzegovina",
        "Belarus",
        "Belize",
        "Bolivia",
        "Brazil",
        "Bhutan",
        "Botswana",
        "Central African Republic",
        "Canada",
        "Switzerland",
        "Chile",
        "China",
        "Cote d'Ivoire",
        "Cameroon",
        "Congo, Dem. Rep.",
        "Congo, Rep.",
        "Colombia",
        "Comoros",
        "Cape Verde",
        "Costa Rica",
        "Czech Republic",
        "Germany",
        "Djibouti",
        "Denmark",
        "Dominican Republic",
        "Algeria",
        "Ecuador",
        "Egypt",
        "Spain",
        "Estonia",
        "Ethiopia",
        "Finland",
        "Fiji",
        "France",
        "Micronesia, Fed. Sts.",
        "Gabon",
        "United Kingdom",
        "Georgia",
        "Ghana",
        "Guinea",
        "Gambia",
        "Guinea-Bissau",
        "Greece",
        "Guatemala",
        "Guyana",
        "Honduras",
        "Croatia",
        "Haiti",
        "Hungary",
        "Indonesia",
        "India",
        "Ireland",
        "Iran",
        "Iraq",
        "Israel",
        "Italy",
        "Jamaica",
        "Jordan",
        "Japan",
        "Kazakhstan",
        "Kenya",
        "Kyrgyz Republic",
        "Cambodia",
        "Lao",
        "Liberia",
        "St. Lucia",
        "Sri Lanka",
        "Lesotho",
        "Lithuania",
        "Latvia",
        "Morocco",
        "Moldova",
        "Madagascar",
        "Maldives",
        "Mexico",
        "North Macedonia",
        "Mali",
        "Montenegro",
        "Mozambique",
        "Mauritania",
        "Malawi",
        "Malaysia",
        "Namibia",
        "Niger",
        "Nigeria",
        "Nicaragua",
        "Netherlands",
        "Norway",
        "Nepal",
        "Pakistan",
        "Panama",
        "Peru",
        "Philippines",
        "Papua New Guinea",
        "Poland",
        "Paraguay",
        "Palestine",
        "Romania",
        "Russia",
        "Rwanda",
        "Sudan",
        "Senegal",
        "Sierra Leone",
        "El Salvador",
        "Serbia",
        "Sao Tome and Principe",
        "Suriname",
        "Slovak Republic",
        "Slovenia",
        "Sweden",
        "Swaziland",
        "Seychelles",
        "Syria",
        "Chad",
        "Togo",
        "Thailand",
        "Tajikistan",
        "Turkmenistan",
        "Timor-Leste",
        "Trinidad and Tobago",
        "Tunisia",
        "Turkey",
        "Tanzania",
        "Uganda",
        "Ukraine",
        "Uruguay",
        "United States",
        "Venezuela",
        "Vietnam",
        "Yemen",
        "South Africa",
        "Zambia"
       ],
       "_view_count": null,
       "_view_module": "@jupyter-widgets/controls",
       "_view_module_version": "1.5.0",
       "_view_name": "DropdownView",
       "description": "country",
       "description_tooltip": null,
       "disabled": false,
       "index": 0,
       "layout": "IPY_MODEL_5db3af59349b40ac8412ede7fb796fa8",
       "style": "IPY_MODEL_1fc6398f14e044cc8a1ce8551989183b"
      }
     }
    },
    "version_major": 2,
    "version_minor": 0
   }
  }
 },
 "nbformat": 4,
 "nbformat_minor": 1
}
